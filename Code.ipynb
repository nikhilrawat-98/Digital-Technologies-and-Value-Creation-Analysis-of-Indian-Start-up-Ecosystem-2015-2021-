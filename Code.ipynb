{
 "cells": [
  {
   "cell_type": "markdown",
   "metadata": {},
   "source": [
    "Name: Nikhil Rawat"
   ]
  },
  {
   "cell_type": "markdown",
   "metadata": {},
   "source": [
    "# Import Necessary Libraries "
   ]
  },
  {
   "cell_type": "code",
   "execution_count": 1,
   "metadata": {},
   "outputs": [],
   "source": [
    "import pandas as pd\n",
    "import os\n",
    "import numpy as np\n",
    "import matplotlib.pyplot as plt\n",
    "import seaborn as sns\n",
    "import matplotlib.ticker as ticker\n",
    "import warnings\n",
    "\n",
    "# Ignore all warnings\n",
    "warnings.filterwarnings(\"ignore\")"
   ]
  },
  {
   "cell_type": "markdown",
   "metadata": {},
   "source": [
    "# Part 1: Preparing the Data"
   ]
  },
  {
   "cell_type": "markdown",
   "metadata": {},
   "source": [
    "## 1. Data Segmentation"
   ]
  },
  {
   "cell_type": "markdown",
   "metadata": {},
   "source": [
    "### Based on the discrepancies in data format, including a broader historical range in Data_B from 1963 to 2021.\n",
    "### Dividing into two dataset one Data_A from 2015-2019 and other is Data_B from 2020-2021"
   ]
  },
  {
   "cell_type": "code",
   "execution_count": 2,
   "metadata": {},
   "outputs": [],
   "source": [
    "# Define a list of column sets that should be merged\n",
    "columns_to_merge = {\n",
    "    'Serial_no': ['Unnamed: 0', 'Sr. No.'],\n",
    "    'Date': ['Date(dd/mm/yyyy)', 'Date','Founding Date'],\n",
    "    'Founder': ['Founders'],\n",
    "    'Startup_name': ['Startup Name'],\n",
    "    'About_company': ['Sub-Vertical'],\n",
    "    'Industry_vertical': ['Industry/ Vertical', 'Industry/Vertical', 'Industry Vertical'],\n",
    "    'City_location': ['City / Location', 'City'],\n",
    "    'Investors_name': ['Investors’ Name', 'Investor Name', 'Investors', 'Investors_name'],\n",
    "    'Investment_type': ['Invest-mentType', 'InvestmentType', 'Investment Type', 'Investment Stage'],\n",
    "    'Amount_usd': ['Amount (in USD)', 'Amount(in USD)'],\n",
    "    'Remarks': [ 'Remarks'],\n",
    "}"
   ]
  },
  {
   "cell_type": "code",
   "execution_count": 3,
   "metadata": {},
   "outputs": [
    {
     "name": "stdout",
     "output_type": "stream",
     "text": [
      "Combined CSV saved at /Users/nick/Downloads/startups_data_2015-19.csv\n"
     ]
    }
   ],
   "source": [
    "# Set the directory where CSV files are stored\n",
    "folder_path_2015_19 = '/Users/nick/Downloads/StartUp_2015-2019'\n",
    "\n",
    "# Get a list of all CSV files in the directory\n",
    "all_files_2015_19 = [file for file in os.listdir(folder_path_2015_19) if file.endswith('.csv')]\n",
    "\n",
    "# Initialize an empty list to store DataFrames\n",
    "data_A_list = []\n",
    "\n",
    "# Loop through all files and read them into DataFrames\n",
    "for file in all_files_2015_19:\n",
    "    file_path_A = os.path.join(folder_path_2015_19, file)\n",
    "    data_A = pd.read_csv(file_path_A)\n",
    "\n",
    "    # Standardize and merge column names\n",
    "    new_columns = {}\n",
    "    for standard_col, variations in columns_to_merge.items():\n",
    "        for col in variations:\n",
    "            if col in data_A.columns:\n",
    "                # Rename the found variation to the standard column name\n",
    "                new_columns[col] = standard_col\n",
    "    data_A.rename(columns=new_columns, inplace=True)\n",
    "\n",
    "    # Merge columns if necessary (taking non-null values)\n",
    "    for standard_col, variations in columns_to_merge.items():\n",
    "        if standard_col in data_A.columns:\n",
    "            # Fill missing values in the standard column with data from its variations\n",
    "            for col in variations:\n",
    "                if col in data_A.columns:\n",
    "                    data_A[standard_col] = data_A[standard_col].combine_first(data_A[col])\n",
    "\n",
    "    # Drop old variation columns that have been merged\n",
    "    data_A.drop(columns=[col for col in data_A.columns if col not in columns_to_merge], inplace=True)\n",
    "\n",
    "    # Append the DataFrame to the list\n",
    "    data_A_list.append(data_A)\n",
    "\n",
    "# Concatenate all the DataFrames in the list\n",
    "combined_data_A = pd.concat(data_A_list, ignore_index=True)\n",
    "\n",
    "# Drop columns and rows that are completely empty\n",
    "combined_data_A.dropna(axis=1, how='all', inplace=True)\n",
    "combined_data_A.dropna(axis=0, how='all', inplace=True)\n",
    "\n",
    "# Specify the path to your Downloads directory on Mac\n",
    "output_file_2015_19 = '/Users/nick/Downloads/startups_data_2015-19.csv'\n",
    "\n",
    "# Save the combined DataFrame to a CSV file\n",
    "combined_data_A.to_csv(output_file_2015_19, index=False)\n",
    "\n",
    "print(f\"Combined CSV saved at {output_file_2015_19}\")\n"
   ]
  },
  {
   "cell_type": "code",
   "execution_count": 4,
   "metadata": {},
   "outputs": [
    {
     "name": "stdout",
     "output_type": "stream",
     "text": [
      "Combined CSV saved at /Users/nick/Downloads/Startups_2020-21.csv\n"
     ]
    }
   ],
   "source": [
    "# Set the directory where your CSV files are stored\n",
    "folder_path_2020_21 = '/Users/nick/Downloads/StartUp_2020-2021'\n",
    "\n",
    "# Get a list of all CSV files in the directory\n",
    "all_files_2020_21 = [file for file in os.listdir(folder_path_2020_21) if file.endswith('.csv')]\n",
    "\n",
    "# Initialize an empty list to store DataFrames\n",
    "data_B_list = []\n",
    "\n",
    "# Loop through all files and read them into DataFrames\n",
    "for file in all_files_2020_21:\n",
    "    file_path_B = os.path.join(folder_path_2020_21, file)\n",
    "    data_B = pd.read_csv(file_path_B)\n",
    "\n",
    "    # Standardize and merge column names\n",
    "    new_columns = {}\n",
    "    for standard_col, variations in columns_to_merge.items():\n",
    "        for col in variations:\n",
    "            if col in data_B.columns:\n",
    "                # Rename the found variation to the standard column name\n",
    "                new_columns[col] = standard_col\n",
    "    data_B.rename(columns=new_columns, inplace=True)\n",
    "\n",
    "    # Merge columns if necessary (taking non-null values)\n",
    "    for standard_col, variations in columns_to_merge.items():\n",
    "        if standard_col in data_B.columns:\n",
    "            # Fill missing values in the standard column with data from its variations\n",
    "            for col in variations:\n",
    "                if col in data_B.columns:\n",
    "                    data_B[standard_col] = data_B[standard_col].combine_first(data_B[col])\n",
    "\n",
    "    # Drop old variation columns that have been merged\n",
    "    data_B.drop(columns=[col for col in data_B.columns if col not in columns_to_merge], inplace=True)\n",
    "\n",
    "    # Append the DataFrame to the list\n",
    "    data_B_list.append(data_B)\n",
    "\n",
    "# Concatenate all the DataFrames in the list\n",
    "combined_data_B = pd.concat(data_B_list, ignore_index=True)\n",
    "\n",
    "# Drop columns and rows that are completely empty\n",
    "combined_data_B.dropna(axis=1, how='all', inplace=True)\n",
    "combined_data_B.dropna(axis=0, how='all', inplace=True)\n",
    "\n",
    "# Specify the path to your Downloads directory on Mac\n",
    "output_file_2020_21 = '/Users/nick/Downloads/Startups_2020-21.csv'\n",
    "\n",
    "# Save the combined DataFrame to a CSV file\n",
    "combined_data_B.to_csv(output_file_2020_21, index=False)\n",
    "\n",
    "print(f\"Combined CSV saved at {output_file_2020_21}\")"
   ]
  },
  {
   "cell_type": "markdown",
   "metadata": {},
   "source": [
    "### Datasets Overview"
   ]
  },
  {
   "cell_type": "code",
   "execution_count": 5,
   "metadata": {},
   "outputs": [
    {
     "data": {
      "text/html": [
       "<div>\n",
       "<style scoped>\n",
       "    .dataframe tbody tr th:only-of-type {\n",
       "        vertical-align: middle;\n",
       "    }\n",
       "\n",
       "    .dataframe tbody tr th {\n",
       "        vertical-align: top;\n",
       "    }\n",
       "\n",
       "    .dataframe thead th {\n",
       "        text-align: right;\n",
       "    }\n",
       "</style>\n",
       "<table border=\"1\" class=\"dataframe\">\n",
       "  <thead>\n",
       "    <tr style=\"text-align: right;\">\n",
       "      <th></th>\n",
       "      <th>Serial_no</th>\n",
       "      <th>Date</th>\n",
       "      <th>Startup_name</th>\n",
       "      <th>Industry_vertical</th>\n",
       "      <th>About_company</th>\n",
       "      <th>City_location</th>\n",
       "      <th>Investors_name</th>\n",
       "      <th>Investment_type</th>\n",
       "      <th>Amount_usd</th>\n",
       "      <th>Remarks</th>\n",
       "    </tr>\n",
       "  </thead>\n",
       "  <tbody>\n",
       "    <tr>\n",
       "      <th>0</th>\n",
       "      <td>1.0</td>\n",
       "      <td>01/05/2017</td>\n",
       "      <td>Ace2three</td>\n",
       "      <td>Consumer Internet</td>\n",
       "      <td>Online Rummy playing Website</td>\n",
       "      <td>Hyderabad</td>\n",
       "      <td>Clairvest Group</td>\n",
       "      <td>Private Equity</td>\n",
       "      <td>73,700,000</td>\n",
       "      <td>NaN</td>\n",
       "    </tr>\n",
       "    <tr>\n",
       "      <th>1</th>\n",
       "      <td>2.0</td>\n",
       "      <td>01/05/2017</td>\n",
       "      <td>Power2SME</td>\n",
       "      <td>eCommerce</td>\n",
       "      <td>Buying portal for SMEs</td>\n",
       "      <td>Gurgaon</td>\n",
       "      <td>International Finance Corporation</td>\n",
       "      <td>Private Equity</td>\n",
       "      <td>10,000,000</td>\n",
       "      <td>NaN</td>\n",
       "    </tr>\n",
       "    <tr>\n",
       "      <th>2</th>\n",
       "      <td>3.0</td>\n",
       "      <td>02/05/2017</td>\n",
       "      <td>Innovapptive</td>\n",
       "      <td>Technology</td>\n",
       "      <td>Enterprise Mobility Solutions</td>\n",
       "      <td>Hyderabad</td>\n",
       "      <td>Hyderabad Angels</td>\n",
       "      <td>Seed Funding</td>\n",
       "      <td>1,500,000</td>\n",
       "      <td>NaN</td>\n",
       "    </tr>\n",
       "    <tr>\n",
       "      <th>3</th>\n",
       "      <td>4.0</td>\n",
       "      <td>02/05/2017</td>\n",
       "      <td>4tigo</td>\n",
       "      <td>Logistics</td>\n",
       "      <td>Truck Network company</td>\n",
       "      <td>Bangalore</td>\n",
       "      <td>Accel Partners, Nandan Nilekani,</td>\n",
       "      <td>Private Equity</td>\n",
       "      <td>10,000,000</td>\n",
       "      <td>NaN</td>\n",
       "    </tr>\n",
       "    <tr>\n",
       "      <th>4</th>\n",
       "      <td>5.0</td>\n",
       "      <td>02/05/2017</td>\n",
       "      <td>SMECorner</td>\n",
       "      <td>Consumer Internet</td>\n",
       "      <td>Online Platform for small business loans</td>\n",
       "      <td>Mumbai</td>\n",
       "      <td>Dutch government fund</td>\n",
       "      <td>Private Equity</td>\n",
       "      <td>NaN</td>\n",
       "      <td>NaN</td>\n",
       "    </tr>\n",
       "    <tr>\n",
       "      <th>...</th>\n",
       "      <td>...</td>\n",
       "      <td>...</td>\n",
       "      <td>...</td>\n",
       "      <td>...</td>\n",
       "      <td>...</td>\n",
       "      <td>...</td>\n",
       "      <td>...</td>\n",
       "      <td>...</td>\n",
       "      <td>...</td>\n",
       "      <td>...</td>\n",
       "    </tr>\n",
       "    <tr>\n",
       "      <th>3109</th>\n",
       "      <td>51.0</td>\n",
       "      <td>29/01/2015</td>\n",
       "      <td>Printvenue</td>\n",
       "      <td>NaN</td>\n",
       "      <td>NaN</td>\n",
       "      <td>NaN</td>\n",
       "      <td>Asia Pacific Internet Group</td>\n",
       "      <td>Private Equity</td>\n",
       "      <td>4,500,000</td>\n",
       "      <td>NaN</td>\n",
       "    </tr>\n",
       "    <tr>\n",
       "      <th>3110</th>\n",
       "      <td>52.0</td>\n",
       "      <td>29/01/2015</td>\n",
       "      <td>Graphene</td>\n",
       "      <td>NaN</td>\n",
       "      <td>NaN</td>\n",
       "      <td>NaN</td>\n",
       "      <td>KARSEMVEN Fund</td>\n",
       "      <td>Private Equity</td>\n",
       "      <td>825,000</td>\n",
       "      <td>Govt backed VC Fund</td>\n",
       "    </tr>\n",
       "    <tr>\n",
       "      <th>3111</th>\n",
       "      <td>53.0</td>\n",
       "      <td>30/01/2015</td>\n",
       "      <td>Mad Street Den</td>\n",
       "      <td>NaN</td>\n",
       "      <td>NaN</td>\n",
       "      <td>NaN</td>\n",
       "      <td>Exfinity Fund, GrowX Ventures.</td>\n",
       "      <td>Private Equity</td>\n",
       "      <td>1,500,000</td>\n",
       "      <td>NaN</td>\n",
       "    </tr>\n",
       "    <tr>\n",
       "      <th>3112</th>\n",
       "      <td>54.0</td>\n",
       "      <td>30/01/2015</td>\n",
       "      <td>Simplotel</td>\n",
       "      <td>NaN</td>\n",
       "      <td>NaN</td>\n",
       "      <td>NaN</td>\n",
       "      <td>MakeMyTrip</td>\n",
       "      <td>Private Equity</td>\n",
       "      <td>NaN</td>\n",
       "      <td>Strategic Funding, Minority stake</td>\n",
       "    </tr>\n",
       "    <tr>\n",
       "      <th>3113</th>\n",
       "      <td>55.0</td>\n",
       "      <td>31/01/2015</td>\n",
       "      <td>couponmachine.in</td>\n",
       "      <td>NaN</td>\n",
       "      <td>NaN</td>\n",
       "      <td>NaN</td>\n",
       "      <td>UK based Group of Angel Investors</td>\n",
       "      <td>Seed Funding</td>\n",
       "      <td>140,000</td>\n",
       "      <td>NaN</td>\n",
       "    </tr>\n",
       "  </tbody>\n",
       "</table>\n",
       "<p>3099 rows × 10 columns</p>\n",
       "</div>"
      ],
      "text/plain": [
       "      Serial_no        Date      Startup_name  Industry_vertical  \\\n",
       "0           1.0  01/05/2017         Ace2three  Consumer Internet   \n",
       "1           2.0  01/05/2017         Power2SME          eCommerce   \n",
       "2           3.0  02/05/2017      Innovapptive         Technology   \n",
       "3           4.0  02/05/2017             4tigo          Logistics   \n",
       "4           5.0  02/05/2017         SMECorner  Consumer Internet   \n",
       "...         ...         ...               ...                ...   \n",
       "3109       51.0  29/01/2015        Printvenue                NaN   \n",
       "3110       52.0  29/01/2015          Graphene                NaN   \n",
       "3111       53.0  30/01/2015    Mad Street Den                NaN   \n",
       "3112       54.0  30/01/2015         Simplotel                NaN   \n",
       "3113       55.0  31/01/2015  couponmachine.in                NaN   \n",
       "\n",
       "                                 About_company City_location  \\\n",
       "0                 Online Rummy playing Website     Hyderabad   \n",
       "1                       Buying portal for SMEs       Gurgaon   \n",
       "2                Enterprise Mobility Solutions     Hyderabad   \n",
       "3                        Truck Network company     Bangalore   \n",
       "4     Online Platform for small business loans        Mumbai   \n",
       "...                                        ...           ...   \n",
       "3109                                       NaN           NaN   \n",
       "3110                                       NaN           NaN   \n",
       "3111                                       NaN           NaN   \n",
       "3112                                       NaN           NaN   \n",
       "3113                                       NaN           NaN   \n",
       "\n",
       "                         Investors_name Investment_type  Amount_usd  \\\n",
       "0                       Clairvest Group  Private Equity  73,700,000   \n",
       "1     International Finance Corporation  Private Equity  10,000,000   \n",
       "2                      Hyderabad Angels    Seed Funding   1,500,000   \n",
       "3      Accel Partners, Nandan Nilekani,  Private Equity  10,000,000   \n",
       "4                 Dutch government fund  Private Equity         NaN   \n",
       "...                                 ...             ...         ...   \n",
       "3109        Asia Pacific Internet Group  Private Equity   4,500,000   \n",
       "3110                     KARSEMVEN Fund  Private Equity     825,000   \n",
       "3111     Exfinity Fund, GrowX Ventures.  Private Equity   1,500,000   \n",
       "3112                         MakeMyTrip  Private Equity         NaN   \n",
       "3113  UK based Group of Angel Investors    Seed Funding     140,000   \n",
       "\n",
       "                                Remarks  \n",
       "0                                   NaN  \n",
       "1                                   NaN  \n",
       "2                                   NaN  \n",
       "3                                   NaN  \n",
       "4                                   NaN  \n",
       "...                                 ...  \n",
       "3109                                NaN  \n",
       "3110                Govt backed VC Fund  \n",
       "3111                                NaN  \n",
       "3112  Strategic Funding, Minority stake  \n",
       "3113                                NaN  \n",
       "\n",
       "[3099 rows x 10 columns]"
      ]
     },
     "execution_count": 5,
     "metadata": {},
     "output_type": "execute_result"
    }
   ],
   "source": [
    "# Display Data_2015_19\n",
    "combined_data_A"
   ]
  },
  {
   "cell_type": "code",
   "execution_count": 6,
   "metadata": {},
   "outputs": [
    {
     "data": {
      "text/html": [
       "<div>\n",
       "<style scoped>\n",
       "    .dataframe tbody tr th:only-of-type {\n",
       "        vertical-align: middle;\n",
       "    }\n",
       "\n",
       "    .dataframe tbody tr th {\n",
       "        vertical-align: top;\n",
       "    }\n",
       "\n",
       "    .dataframe thead th {\n",
       "        text-align: right;\n",
       "    }\n",
       "</style>\n",
       "<table border=\"1\" class=\"dataframe\">\n",
       "  <thead>\n",
       "    <tr style=\"text-align: right;\">\n",
       "      <th></th>\n",
       "      <th>Serial_no</th>\n",
       "      <th>Startup_name</th>\n",
       "      <th>Date</th>\n",
       "      <th>City_location</th>\n",
       "      <th>Industry_vertical</th>\n",
       "      <th>About_company</th>\n",
       "      <th>Founder</th>\n",
       "      <th>Investors_name</th>\n",
       "      <th>Amount_usd</th>\n",
       "      <th>Investment_type</th>\n",
       "    </tr>\n",
       "  </thead>\n",
       "  <tbody>\n",
       "    <tr>\n",
       "      <th>0</th>\n",
       "      <td>0</td>\n",
       "      <td>Aqgromalin</td>\n",
       "      <td>2019</td>\n",
       "      <td>Chennai</td>\n",
       "      <td>AgriTech</td>\n",
       "      <td>Cultivating Ideas for Profit</td>\n",
       "      <td>Prasanna Manogaran, Bharani C L</td>\n",
       "      <td>Angel investors</td>\n",
       "      <td>$200,000</td>\n",
       "      <td>NaN</td>\n",
       "    </tr>\n",
       "    <tr>\n",
       "      <th>1</th>\n",
       "      <td>1</td>\n",
       "      <td>Krayonnz</td>\n",
       "      <td>2019</td>\n",
       "      <td>Bangalore</td>\n",
       "      <td>EdTech</td>\n",
       "      <td>An academy-guardian-scholar centric ecosystem ...</td>\n",
       "      <td>Saurabh Dixit, Gurudutt Upadhyay</td>\n",
       "      <td>GSF Accelerator</td>\n",
       "      <td>$100,000</td>\n",
       "      <td>Pre-seed</td>\n",
       "    </tr>\n",
       "    <tr>\n",
       "      <th>2</th>\n",
       "      <td>2</td>\n",
       "      <td>PadCare Labs</td>\n",
       "      <td>2018</td>\n",
       "      <td>Pune</td>\n",
       "      <td>Hygiene management</td>\n",
       "      <td>Converting bio-hazardous waste to harmless waste</td>\n",
       "      <td>Ajinkya Dhariya</td>\n",
       "      <td>Venture Center</td>\n",
       "      <td>Undisclosed</td>\n",
       "      <td>Pre-seed</td>\n",
       "    </tr>\n",
       "    <tr>\n",
       "      <th>3</th>\n",
       "      <td>3</td>\n",
       "      <td>NCOME</td>\n",
       "      <td>2020</td>\n",
       "      <td>New Delhi</td>\n",
       "      <td>Escrow</td>\n",
       "      <td>Escrow-as-a-service platform</td>\n",
       "      <td>Ritesh Tiwari</td>\n",
       "      <td>Venture Catalysts, PointOne Capital</td>\n",
       "      <td>$400,000</td>\n",
       "      <td>NaN</td>\n",
       "    </tr>\n",
       "    <tr>\n",
       "      <th>4</th>\n",
       "      <td>4</td>\n",
       "      <td>Gramophone</td>\n",
       "      <td>2016</td>\n",
       "      <td>Indore</td>\n",
       "      <td>AgriTech</td>\n",
       "      <td>Gramophone is an AgTech platform enabling acce...</td>\n",
       "      <td>Ashish Rajan Singh, Harshit Gupta, Nishant Mah...</td>\n",
       "      <td>Siana Capital Management, Info Edge</td>\n",
       "      <td>$340,000</td>\n",
       "      <td>NaN</td>\n",
       "    </tr>\n",
       "    <tr>\n",
       "      <th>...</th>\n",
       "      <td>...</td>\n",
       "      <td>...</td>\n",
       "      <td>...</td>\n",
       "      <td>...</td>\n",
       "      <td>...</td>\n",
       "      <td>...</td>\n",
       "      <td>...</td>\n",
       "      <td>...</td>\n",
       "      <td>...</td>\n",
       "      <td>...</td>\n",
       "    </tr>\n",
       "    <tr>\n",
       "      <th>2182</th>\n",
       "      <td>64</td>\n",
       "      <td>NaN</td>\n",
       "      <td>NaN</td>\n",
       "      <td>NaN</td>\n",
       "      <td>NaN</td>\n",
       "      <td>NaN</td>\n",
       "      <td>NaN</td>\n",
       "      <td>NaN</td>\n",
       "      <td>NaN</td>\n",
       "      <td>NaN</td>\n",
       "    </tr>\n",
       "    <tr>\n",
       "      <th>2183</th>\n",
       "      <td>65</td>\n",
       "      <td>NaN</td>\n",
       "      <td>NaN</td>\n",
       "      <td>NaN</td>\n",
       "      <td>NaN</td>\n",
       "      <td>NaN</td>\n",
       "      <td>NaN</td>\n",
       "      <td>NaN</td>\n",
       "      <td>NaN</td>\n",
       "      <td>NaN</td>\n",
       "    </tr>\n",
       "    <tr>\n",
       "      <th>2184</th>\n",
       "      <td>66</td>\n",
       "      <td>NaN</td>\n",
       "      <td>NaN</td>\n",
       "      <td>NaN</td>\n",
       "      <td>NaN</td>\n",
       "      <td>NaN</td>\n",
       "      <td>NaN</td>\n",
       "      <td>NaN</td>\n",
       "      <td>NaN</td>\n",
       "      <td>NaN</td>\n",
       "    </tr>\n",
       "    <tr>\n",
       "      <th>2185</th>\n",
       "      <td>67</td>\n",
       "      <td>NaN</td>\n",
       "      <td>NaN</td>\n",
       "      <td>NaN</td>\n",
       "      <td>NaN</td>\n",
       "      <td>NaN</td>\n",
       "      <td>NaN</td>\n",
       "      <td>NaN</td>\n",
       "      <td>NaN</td>\n",
       "      <td>NaN</td>\n",
       "    </tr>\n",
       "    <tr>\n",
       "      <th>2186</th>\n",
       "      <td>68</td>\n",
       "      <td>NaN</td>\n",
       "      <td>NaN</td>\n",
       "      <td>NaN</td>\n",
       "      <td>NaN</td>\n",
       "      <td>NaN</td>\n",
       "      <td>NaN</td>\n",
       "      <td>NaN</td>\n",
       "      <td>NaN</td>\n",
       "      <td>NaN</td>\n",
       "    </tr>\n",
       "  </tbody>\n",
       "</table>\n",
       "<p>2187 rows × 10 columns</p>\n",
       "</div>"
      ],
      "text/plain": [
       "      Serial_no  Startup_name  Date City_location   Industry_vertical  \\\n",
       "0             0    Aqgromalin  2019       Chennai            AgriTech   \n",
       "1             1      Krayonnz  2019     Bangalore              EdTech   \n",
       "2             2  PadCare Labs  2018          Pune  Hygiene management   \n",
       "3             3         NCOME  2020     New Delhi              Escrow   \n",
       "4             4    Gramophone  2016        Indore            AgriTech   \n",
       "...         ...           ...   ...           ...                 ...   \n",
       "2182         64           NaN   NaN           NaN                 NaN   \n",
       "2183         65           NaN   NaN           NaN                 NaN   \n",
       "2184         66           NaN   NaN           NaN                 NaN   \n",
       "2185         67           NaN   NaN           NaN                 NaN   \n",
       "2186         68           NaN   NaN           NaN                 NaN   \n",
       "\n",
       "                                          About_company  \\\n",
       "0                          Cultivating Ideas for Profit   \n",
       "1     An academy-guardian-scholar centric ecosystem ...   \n",
       "2      Converting bio-hazardous waste to harmless waste   \n",
       "3                          Escrow-as-a-service platform   \n",
       "4     Gramophone is an AgTech platform enabling acce...   \n",
       "...                                                 ...   \n",
       "2182                                                NaN   \n",
       "2183                                                NaN   \n",
       "2184                                                NaN   \n",
       "2185                                                NaN   \n",
       "2186                                                NaN   \n",
       "\n",
       "                                                Founder  \\\n",
       "0                       Prasanna Manogaran, Bharani C L   \n",
       "1                      Saurabh Dixit, Gurudutt Upadhyay   \n",
       "2                                       Ajinkya Dhariya   \n",
       "3                                         Ritesh Tiwari   \n",
       "4     Ashish Rajan Singh, Harshit Gupta, Nishant Mah...   \n",
       "...                                                 ...   \n",
       "2182                                                NaN   \n",
       "2183                                                NaN   \n",
       "2184                                                NaN   \n",
       "2185                                                NaN   \n",
       "2186                                                NaN   \n",
       "\n",
       "                           Investors_name   Amount_usd Investment_type  \n",
       "0                         Angel investors     $200,000             NaN  \n",
       "1                         GSF Accelerator     $100,000        Pre-seed  \n",
       "2                          Venture Center  Undisclosed        Pre-seed  \n",
       "3     Venture Catalysts, PointOne Capital     $400,000             NaN  \n",
       "4     Siana Capital Management, Info Edge     $340,000             NaN  \n",
       "...                                   ...          ...             ...  \n",
       "2182                                  NaN          NaN             NaN  \n",
       "2183                                  NaN          NaN             NaN  \n",
       "2184                                  NaN          NaN             NaN  \n",
       "2185                                  NaN          NaN             NaN  \n",
       "2186                                  NaN          NaN             NaN  \n",
       "\n",
       "[2187 rows x 10 columns]"
      ]
     },
     "execution_count": 6,
     "metadata": {},
     "output_type": "execute_result"
    }
   ],
   "source": [
    "# Display Data_2020_21\n",
    "combined_data_B"
   ]
  },
  {
   "cell_type": "markdown",
   "metadata": {},
   "source": [
    "### Data Diagnosis"
   ]
  },
  {
   "cell_type": "code",
   "execution_count": 7,
   "metadata": {},
   "outputs": [
    {
     "name": "stdout",
     "output_type": "stream",
     "text": [
      "Serial_no               0\n",
      "Date                   21\n",
      "Startup_name           37\n",
      "Industry_vertical     208\n",
      "About_company         973\n",
      "City_location         217\n",
      "Investors_name         61\n",
      "Investment_type        40\n",
      "Amount_usd           1006\n",
      "Remarks              2680\n",
      "dtype: int64\n",
      "Serial_no             0.000000\n",
      "Date                  0.677638\n",
      "Startup_name          1.193934\n",
      "Industry_vertical     6.711843\n",
      "About_company        31.397225\n",
      "City_location         7.002259\n",
      "Investors_name        1.968377\n",
      "Investment_type       1.290739\n",
      "Amount_usd           32.462085\n",
      "Remarks              86.479510\n",
      "dtype: float64\n"
     ]
    }
   ],
   "source": [
    "# Check the number of missing values in each column in combined_data_A\n",
    "missing_values_count_A = combined_data_A.isna().sum()\n",
    "\n",
    "# Print out the missing values count for each column\n",
    "print(missing_values_count_A)\n",
    "\n",
    "# Calculate the total number of rows in combined_data_A\n",
    "total_rows_A = len(combined_data_A)\n",
    "\n",
    "# Calculate the percentage of missing values for each column\n",
    "missing_percentage_A = (missing_values_count_A / total_rows_A) * 100\n",
    "\n",
    "# Print the percentage of missing values for each column\n",
    "print(missing_percentage_A)"
   ]
  },
  {
   "cell_type": "code",
   "execution_count": 8,
   "metadata": {},
   "outputs": [
    {
     "name": "stdout",
     "output_type": "stream",
     "text": [
      "Serial_no              0\n",
      "Startup_name          59\n",
      "Date                 222\n",
      "City_location        127\n",
      "Industry_vertical     67\n",
      "About_company         59\n",
      "Founder               73\n",
      "Investors_name       159\n",
      "Amount_usd            65\n",
      "Investment_type      888\n",
      "dtype: int64\n",
      "Serial_no             0.000000\n",
      "Startup_name          2.697759\n",
      "Date                 10.150892\n",
      "City_location         5.807042\n",
      "Industry_vertical     3.063557\n",
      "About_company         2.697759\n",
      "Founder               3.337906\n",
      "Investors_name        7.270233\n",
      "Amount_usd            2.972108\n",
      "Investment_type      40.603567\n",
      "dtype: float64\n"
     ]
    }
   ],
   "source": [
    "# Check the number of missing values in each column in combined_data_B\n",
    "missing_values_count_B = combined_data_B.isna().sum()\n",
    "\n",
    "# Print out the missing values count for each column\n",
    "print(missing_values_count_B)\n",
    "\n",
    "# Calculate the total number of rows in combined_data_B\n",
    "total_rows_B = len(combined_data_B)\n",
    "\n",
    "# Calculate the percentage of missing values for each column\n",
    "missing_percentage_B = (missing_values_count_B / total_rows_B) * 100\n",
    "\n",
    "# Print the percentage of missing values for each column\n",
    "print(missing_percentage_B)"
   ]
  },
  {
   "cell_type": "markdown",
   "metadata": {},
   "source": [
    "## 2.\tStandardization "
   ]
  },
  {
   "cell_type": "markdown",
   "metadata": {},
   "source": [
    "### Removing empty rows in the start-up "
   ]
  },
  {
   "cell_type": "code",
   "execution_count": 9,
   "metadata": {},
   "outputs": [
    {
     "name": "stdout",
     "output_type": "stream",
     "text": [
      "Serial_no               0\n",
      "Date                    0\n",
      "Startup_name            0\n",
      "Industry_vertical     171\n",
      "About_company         936\n",
      "City_location         180\n",
      "Investors_name         24\n",
      "Investment_type         3\n",
      "Amount_usd            969\n",
      "Remarks              2643\n",
      "dtype: int64\n",
      "Serial_no             0.000000\n",
      "Date                  0.000000\n",
      "Startup_name          0.000000\n",
      "Industry_vertical     5.584585\n",
      "About_company        30.568256\n",
      "City_location         5.878511\n",
      "Investors_name        0.783801\n",
      "Investment_type       0.097975\n",
      "Amount_usd           31.645983\n",
      "Remarks              86.316133\n",
      "dtype: float64\n"
     ]
    }
   ],
   "source": [
    "# Remove rows where 'Startup_name' has missing values and assign to data_A1\n",
    "data_A1 = combined_data_A.dropna(subset=['Startup_name'])\n",
    "\n",
    "# Check the number of remaining missing values in each column after removal\n",
    "missing_values_count_A = data_A1.isna().sum()\n",
    "\n",
    "# Print the count of missing values for each column\n",
    "print(missing_values_count_A)\n",
    "\n",
    "# Calculate the total number of rows in data_A1\n",
    "total_rows_A = len(data_A1)\n",
    "\n",
    "# Calculate the percentage of missing values for each column\n",
    "missing_percentage_A = (missing_values_count_A / total_rows_A) * 100\n",
    "\n",
    "# Print the percentage of missing values for each column\n",
    "print(missing_percentage_A)"
   ]
  },
  {
   "cell_type": "code",
   "execution_count": 10,
   "metadata": {},
   "outputs": [
    {
     "name": "stdout",
     "output_type": "stream",
     "text": [
      "Serial_no              0\n",
      "Startup_name           0\n",
      "Date                 163\n",
      "City_location         68\n",
      "Industry_vertical      8\n",
      "About_company          0\n",
      "Founder               14\n",
      "Investors_name       100\n",
      "Amount_usd             6\n",
      "Investment_type      829\n",
      "dtype: int64\n",
      "Serial_no             0.000000\n",
      "Startup_name          0.000000\n",
      "Date                  7.659774\n",
      "City_location         3.195489\n",
      "Industry_vertical     0.375940\n",
      "About_company         0.000000\n",
      "Founder               0.657895\n",
      "Investors_name        4.699248\n",
      "Amount_usd            0.281955\n",
      "Investment_type      38.956767\n",
      "dtype: float64\n"
     ]
    }
   ],
   "source": [
    "# Remove rows where 'Startup_name' has missing values and assign to data_B1\n",
    "data_B1 = combined_data_B.dropna(subset=['Startup_name'])\n",
    "\n",
    "# Check the number of missing values in each column in data_B1\n",
    "missing_values_count_B = data_B1.isna().sum()\n",
    "\n",
    "# Print out the missing values count for each column\n",
    "print(missing_values_count_B)\n",
    "\n",
    "# Check the percentage of missing values for each column\n",
    "total_rows_B = len(data_B1)\n",
    "missing_percentage_B = (missing_values_count_B / total_rows_B) * 100\n",
    "print(missing_percentage_B)"
   ]
  },
  {
   "cell_type": "markdown",
   "metadata": {},
   "source": [
    "### Removing columns with high missing values and those irrelevant to our analysis"
   ]
  },
  {
   "cell_type": "code",
   "execution_count": 11,
   "metadata": {},
   "outputs": [
    {
     "data": {
      "text/html": [
       "<div>\n",
       "<style scoped>\n",
       "    .dataframe tbody tr th:only-of-type {\n",
       "        vertical-align: middle;\n",
       "    }\n",
       "\n",
       "    .dataframe tbody tr th {\n",
       "        vertical-align: top;\n",
       "    }\n",
       "\n",
       "    .dataframe thead th {\n",
       "        text-align: right;\n",
       "    }\n",
       "</style>\n",
       "<table border=\"1\" class=\"dataframe\">\n",
       "  <thead>\n",
       "    <tr style=\"text-align: right;\">\n",
       "      <th></th>\n",
       "      <th>Date</th>\n",
       "      <th>Startup_name</th>\n",
       "      <th>Industry_vertical</th>\n",
       "      <th>City_location</th>\n",
       "      <th>Investors_name</th>\n",
       "      <th>Investment_type</th>\n",
       "      <th>Amount_usd</th>\n",
       "    </tr>\n",
       "  </thead>\n",
       "  <tbody>\n",
       "    <tr>\n",
       "      <th>0</th>\n",
       "      <td>01/05/2017</td>\n",
       "      <td>Ace2three</td>\n",
       "      <td>Consumer Internet</td>\n",
       "      <td>Hyderabad</td>\n",
       "      <td>Clairvest Group</td>\n",
       "      <td>Private Equity</td>\n",
       "      <td>73,700,000</td>\n",
       "    </tr>\n",
       "    <tr>\n",
       "      <th>1</th>\n",
       "      <td>01/05/2017</td>\n",
       "      <td>Power2SME</td>\n",
       "      <td>eCommerce</td>\n",
       "      <td>Gurgaon</td>\n",
       "      <td>International Finance Corporation</td>\n",
       "      <td>Private Equity</td>\n",
       "      <td>10,000,000</td>\n",
       "    </tr>\n",
       "    <tr>\n",
       "      <th>2</th>\n",
       "      <td>02/05/2017</td>\n",
       "      <td>Innovapptive</td>\n",
       "      <td>Technology</td>\n",
       "      <td>Hyderabad</td>\n",
       "      <td>Hyderabad Angels</td>\n",
       "      <td>Seed Funding</td>\n",
       "      <td>1,500,000</td>\n",
       "    </tr>\n",
       "    <tr>\n",
       "      <th>3</th>\n",
       "      <td>02/05/2017</td>\n",
       "      <td>4tigo</td>\n",
       "      <td>Logistics</td>\n",
       "      <td>Bangalore</td>\n",
       "      <td>Accel Partners, Nandan Nilekani,</td>\n",
       "      <td>Private Equity</td>\n",
       "      <td>10,000,000</td>\n",
       "    </tr>\n",
       "    <tr>\n",
       "      <th>4</th>\n",
       "      <td>02/05/2017</td>\n",
       "      <td>SMECorner</td>\n",
       "      <td>Consumer Internet</td>\n",
       "      <td>Mumbai</td>\n",
       "      <td>Dutch government fund</td>\n",
       "      <td>Private Equity</td>\n",
       "      <td>NaN</td>\n",
       "    </tr>\n",
       "  </tbody>\n",
       "</table>\n",
       "</div>"
      ],
      "text/plain": [
       "         Date  Startup_name  Industry_vertical City_location  \\\n",
       "0  01/05/2017     Ace2three  Consumer Internet     Hyderabad   \n",
       "1  01/05/2017     Power2SME          eCommerce       Gurgaon   \n",
       "2  02/05/2017  Innovapptive         Technology     Hyderabad   \n",
       "3  02/05/2017         4tigo          Logistics     Bangalore   \n",
       "4  02/05/2017     SMECorner  Consumer Internet        Mumbai   \n",
       "\n",
       "                      Investors_name Investment_type  Amount_usd  \n",
       "0                    Clairvest Group  Private Equity  73,700,000  \n",
       "1  International Finance Corporation  Private Equity  10,000,000  \n",
       "2                   Hyderabad Angels    Seed Funding   1,500,000  \n",
       "3   Accel Partners, Nandan Nilekani,  Private Equity  10,000,000  \n",
       "4              Dutch government fund  Private Equity         NaN  "
      ]
     },
     "execution_count": 11,
     "metadata": {},
     "output_type": "execute_result"
    }
   ],
   "source": [
    "# Remove the columns 'Remarks', 'Serial_no', and 'About_company' from data_A1 and assign to data_A2\n",
    "data_A2 = data_A1.drop(columns=['Remarks', 'Serial_no', 'About_company'])\n",
    "\n",
    "# Display the first few rows of the updated DataFrame data_A2 to confirm that the columns are removed\n",
    "data_A2.head()"
   ]
  },
  {
   "cell_type": "code",
   "execution_count": 12,
   "metadata": {},
   "outputs": [
    {
     "data": {
      "text/html": [
       "<div>\n",
       "<style scoped>\n",
       "    .dataframe tbody tr th:only-of-type {\n",
       "        vertical-align: middle;\n",
       "    }\n",
       "\n",
       "    .dataframe tbody tr th {\n",
       "        vertical-align: top;\n",
       "    }\n",
       "\n",
       "    .dataframe thead th {\n",
       "        text-align: right;\n",
       "    }\n",
       "</style>\n",
       "<table border=\"1\" class=\"dataframe\">\n",
       "  <thead>\n",
       "    <tr style=\"text-align: right;\">\n",
       "      <th></th>\n",
       "      <th>Startup_name</th>\n",
       "      <th>Date</th>\n",
       "      <th>City_location</th>\n",
       "      <th>Industry_vertical</th>\n",
       "      <th>Investors_name</th>\n",
       "      <th>Amount_usd</th>\n",
       "      <th>Investment_type</th>\n",
       "    </tr>\n",
       "  </thead>\n",
       "  <tbody>\n",
       "    <tr>\n",
       "      <th>0</th>\n",
       "      <td>Aqgromalin</td>\n",
       "      <td>2019</td>\n",
       "      <td>Chennai</td>\n",
       "      <td>AgriTech</td>\n",
       "      <td>Angel investors</td>\n",
       "      <td>$200,000</td>\n",
       "      <td>NaN</td>\n",
       "    </tr>\n",
       "    <tr>\n",
       "      <th>1</th>\n",
       "      <td>Krayonnz</td>\n",
       "      <td>2019</td>\n",
       "      <td>Bangalore</td>\n",
       "      <td>EdTech</td>\n",
       "      <td>GSF Accelerator</td>\n",
       "      <td>$100,000</td>\n",
       "      <td>Pre-seed</td>\n",
       "    </tr>\n",
       "    <tr>\n",
       "      <th>2</th>\n",
       "      <td>PadCare Labs</td>\n",
       "      <td>2018</td>\n",
       "      <td>Pune</td>\n",
       "      <td>Hygiene management</td>\n",
       "      <td>Venture Center</td>\n",
       "      <td>Undisclosed</td>\n",
       "      <td>Pre-seed</td>\n",
       "    </tr>\n",
       "    <tr>\n",
       "      <th>3</th>\n",
       "      <td>NCOME</td>\n",
       "      <td>2020</td>\n",
       "      <td>New Delhi</td>\n",
       "      <td>Escrow</td>\n",
       "      <td>Venture Catalysts, PointOne Capital</td>\n",
       "      <td>$400,000</td>\n",
       "      <td>NaN</td>\n",
       "    </tr>\n",
       "    <tr>\n",
       "      <th>4</th>\n",
       "      <td>Gramophone</td>\n",
       "      <td>2016</td>\n",
       "      <td>Indore</td>\n",
       "      <td>AgriTech</td>\n",
       "      <td>Siana Capital Management, Info Edge</td>\n",
       "      <td>$340,000</td>\n",
       "      <td>NaN</td>\n",
       "    </tr>\n",
       "  </tbody>\n",
       "</table>\n",
       "</div>"
      ],
      "text/plain": [
       "   Startup_name  Date City_location   Industry_vertical  \\\n",
       "0    Aqgromalin  2019       Chennai            AgriTech   \n",
       "1      Krayonnz  2019     Bangalore              EdTech   \n",
       "2  PadCare Labs  2018          Pune  Hygiene management   \n",
       "3         NCOME  2020     New Delhi              Escrow   \n",
       "4    Gramophone  2016        Indore            AgriTech   \n",
       "\n",
       "                        Investors_name   Amount_usd Investment_type  \n",
       "0                      Angel investors     $200,000             NaN  \n",
       "1                      GSF Accelerator     $100,000        Pre-seed  \n",
       "2                       Venture Center  Undisclosed        Pre-seed  \n",
       "3  Venture Catalysts, PointOne Capital     $400,000             NaN  \n",
       "4  Siana Capital Management, Info Edge     $340,000             NaN  "
      ]
     },
     "execution_count": 12,
     "metadata": {},
     "output_type": "execute_result"
    }
   ],
   "source": [
    "# Remove the columns 'Serial_no', 'Founder', and 'About_company' from data_B1 and assign to data_B2\n",
    "data_B2 = data_B1.drop(columns=['Serial_no', 'Founder', 'About_company'])\n",
    "\n",
    "# Display the first few rows of the updated DataFrame\n",
    "data_B2.head()"
   ]
  },
  {
   "cell_type": "markdown",
   "metadata": {},
   "source": [
    "# 3.\tDate Handling "
   ]
  },
  {
   "cell_type": "markdown",
   "metadata": {},
   "source": [
    "### Data_A has no missing values in its date column."
   ]
  },
  {
   "cell_type": "markdown",
   "metadata": {},
   "source": [
    "### Date Correction for Data_B"
   ]
  },
  {
   "cell_type": "code",
   "execution_count": 13,
   "metadata": {},
   "outputs": [
    {
     "name": "stdout",
     "output_type": "stream",
     "text": [
      "Mean Date: 2016.1303462321791\n",
      "Median Date: 2017.0\n",
      "Mode Date: 2020.0\n"
     ]
    }
   ],
   "source": [
    "# Check for non-numeric values and convert 'Date' to integers\n",
    "data_B2['Date'] = pd.to_numeric(data_B2['Date'], errors='coerce')  # Converts non-numeric to NaN\n",
    "\n",
    "# Calculate mean, median, and mode of the 'Date' column\n",
    "mean_date = data_B2['Date'].mean()\n",
    "median_date = data_B2['Date'].median()\n",
    "mode_date = data_B2['Date'].mode()[0]  # mode() returns a Series, get the first mode\n",
    "\n",
    "# Print the results\n",
    "print(f\"Mean Date: {mean_date}\")\n",
    "print(f\"Median Date: {median_date}\")\n",
    "print(f\"Mode Date: {mode_date}\")"
   ]
  },
  {
   "cell_type": "code",
   "execution_count": 14,
   "metadata": {},
   "outputs": [
    {
     "name": "stdout",
     "output_type": "stream",
     "text": [
      "Mode Date: 2020.0\n",
      "Frequency of Mode Date: 277\n",
      "Frequency Percentage of Mode Founding Date: 14.10%\n"
     ]
    }
   ],
   "source": [
    "# Calculate the mode of the 'Date' column\n",
    "mode_date = data_B2['Date'].mode()[0]\n",
    "\n",
    "# Calculate the frequency of the mode\n",
    "mode_frequency = data_B2['Date'].value_counts().loc[mode_date]\n",
    "\n",
    "# Print the mode date and its frequency\n",
    "print(f\"Mode Date: {mode_date}\")\n",
    "print(f\"Frequency of Mode Date: {mode_frequency}\")\n",
    "\n",
    "# Calculate the frequency percentage of the mode date\n",
    "mode_frequency_percentage = mode_frequency / data_B2['Date'].count() * 100\n",
    "\n",
    "# Print the frequency percentage of the mode date\n",
    "print(f\"Frequency Percentage of Mode Founding Date: {mode_frequency_percentage:.2f}%\")"
   ]
  },
  {
   "cell_type": "markdown",
   "metadata": {},
   "source": [
    "As per my analsis, I initially explored multiple approaches to impute these missing values, including mean, median, and mode imputation. But for my analysis purpose, I required either 2020 or 2021 otherwise, it becomes irrelevant.\n",
    "\n",
    "Upon closer examination, I discovered that the mode of the date column suggested a predominant occurrence of 2020. However, a deeper investigation revealed that only approximately 14% of the overall dates corresponded to the year 2020, which doesnt seems siggnificant.\n",
    "So, I come up with a conclusion of excluding the missing date rows from data_B2."
   ]
  },
  {
   "cell_type": "code",
   "execution_count": 15,
   "metadata": {},
   "outputs": [],
   "source": [
    "# Remove any rows in data_B2 where 'Date' is NaN.\n",
    "data_B2 = data_B2.dropna(subset=['Date'])\n",
    "\n",
    "# Convert the 'Date' column to an integer data type.\n",
    "data_B2['Date'] = data_B2['Date'].astype(int)"
   ]
  },
  {
   "cell_type": "markdown",
   "metadata": {},
   "source": [
    "Becuase of information overlap, I exclued entries prior 2020 as I already have considered them from 2015-2019 dataset for my analysis."
   ]
  },
  {
   "cell_type": "code",
   "execution_count": 16,
   "metadata": {},
   "outputs": [],
   "source": [
    "# Create a new DataFrame, data_B3, containing only records from 2020 onwards.\n",
    "data_B3 = data_B2[data_B2['Date'] >= 2020]"
   ]
  },
  {
   "cell_type": "markdown",
   "metadata": {},
   "source": [
    "Changing date format to match up with data_A format. I can only change 2020 to 01/01/2020 as no other detail is given, While this adjustment prevents me from analyzing the data monthly for 2020-21, but it allows for a comparative analysis of yearly trends from 2015 to 2021."
   ]
  },
  {
   "cell_type": "code",
   "execution_count": 17,
   "metadata": {},
   "outputs": [],
   "source": [
    "# Convert the year integer to a date string \n",
    "data_B3['Date'] = pd.to_datetime(data_B3['Date'], format='%Y').dt.strftime('%d/%m/%Y')"
   ]
  },
  {
   "cell_type": "code",
   "execution_count": 18,
   "metadata": {},
   "outputs": [
    {
     "name": "stdout",
     "output_type": "stream",
     "text": [
      "Startup_name          0\n",
      "Date                  0\n",
      "City_location         3\n",
      "Industry_vertical     0\n",
      "Investors_name       21\n",
      "Amount_usd            4\n",
      "Investment_type      92\n",
      "dtype: int64\n",
      "Startup_name         0.000000\n",
      "Date                 0.000000\n",
      "City_location        0.152749\n",
      "Industry_vertical    0.000000\n",
      "Investors_name       1.069246\n",
      "Amount_usd           0.203666\n",
      "Investment_type      4.684318\n",
      "dtype: float64\n"
     ]
    }
   ],
   "source": [
    "# Calculate the number of remaining missing values in each column in DataFrame B3.\n",
    "missing_values_count_B = data_B3.isna().sum()\n",
    "\n",
    "# Print the count of missing values for each column in DataFrame B3.\n",
    "print(missing_values_count_B)\n",
    "\n",
    "# Calculate the total number of rows in DataFrame B3 (assuming total_rows_B should be based on data_B2).\n",
    "total_rows_B = len(data_B2)\n",
    "\n",
    "# Calculate the percentage of missing values for each column in DataFrame B3.\n",
    "missing_percentage_B = (missing_values_count_B / total_rows_B) * 100\n",
    "\n",
    "# Print the percentage of missing values for each column in DataFrame B3.\n",
    "print(missing_percentage_B)"
   ]
  },
  {
   "cell_type": "markdown",
   "metadata": {},
   "source": [
    "### Merging Datasets"
   ]
  },
  {
   "cell_type": "code",
   "execution_count": 19,
   "metadata": {},
   "outputs": [],
   "source": [
    "# Concatenate the dataframes\n",
    "Startups_2015_21 = pd.concat([data_A2, data_B3], ignore_index=True)"
   ]
  },
  {
   "cell_type": "code",
   "execution_count": 20,
   "metadata": {},
   "outputs": [],
   "source": [
    "# Save DataFrame to Excel\n",
    "Startups_2015_21.to_excel('/Users/nick/Downloads/c.xlsx', index=False)  "
   ]
  },
  {
   "cell_type": "markdown",
   "metadata": {},
   "source": [
    "## 4.\tMissing Values Handling Strategy"
   ]
  },
  {
   "cell_type": "code",
   "execution_count": 21,
   "metadata": {},
   "outputs": [
    {
     "name": "stdout",
     "output_type": "stream",
     "text": [
      "Date                   0\n",
      "Startup_name           0\n",
      "Industry_vertical    171\n",
      "City_location        183\n",
      "Investors_name        45\n",
      "Investment_type       95\n",
      "Amount_usd           973\n",
      "dtype: int64\n",
      "Date                  0.000000\n",
      "Startup_name          0.000000\n",
      "Industry_vertical     5.007321\n",
      "City_location         5.358712\n",
      "Investors_name        1.317716\n",
      "Investment_type       2.781845\n",
      "Amount_usd           28.491947\n",
      "dtype: float64\n"
     ]
    }
   ],
   "source": [
    "# Calculate the number of remaining missing values in each column after removal.\n",
    "missing_values_count = Startups_2015_21.isna().sum()\n",
    "\n",
    "# Print the count of missing values for each column.\n",
    "print(missing_values_count)\n",
    "\n",
    "# Calculate the total number of rows in the DataFrame.\n",
    "total_rows = len(Startups_2015_21)\n",
    "\n",
    "# Calculate the percentage of missing values for each column.\n",
    "missing_percentage = (missing_values_count / total_rows) * 100\n",
    "\n",
    "# Print the percentage of missing values for each column.\n",
    "print(missing_percentage)"
   ]
  },
  {
   "cell_type": "markdown",
   "metadata": {},
   "source": [
    "### Investment Types"
   ]
  },
  {
   "cell_type": "markdown",
   "metadata": {},
   "source": [
    "Using dictionary to map similar kind of investment types to overcome data typos errors and can get better data for my analysis"
   ]
  },
  {
   "cell_type": "code",
   "execution_count": 22,
   "metadata": {},
   "outputs": [],
   "source": [
    "# Dictionary mapping corrected investment types to alternative names\n",
    "investment_type_mapping = {\n",
    "    'Angel Funding': ['Angel', 'Angel / Seed Funding', 'Angel Round', 'Seed / Angel Funding', 'Seed / Angle Funding', 'Seed / Angel Funding', 'Seed+', 'Angel Funding'],\n",
    "    'Bridge Round': ['Bridge', 'Bridge Round'],\n",
    "    'Corporate Round': ['Corporate Round'],\n",
    "    'Crowd Funding': ['Crowd funding'],\n",
    "    'Debt Financing': ['Debt', 'Debt and Preference capital', 'Debt Funding', 'Debt-Funding', 'Structured Debt'],\n",
    "    'Early Seed': ['Early seed'],\n",
    "    'Equity Funding': ['Equity', 'Equity Based Funding', 'PrivateEquity', 'Private Equity', 'Private Equity Round', 'Private Funding', 'PE'],\n",
    "    'Funding Round': ['Funding Round'],\n",
    "    'Inhouse Funding': ['Inhouse Funding'],\n",
    "    'Maiden Round': ['Maiden Round'],\n",
    "    'Mezzanine Funding': ['Mezzanine'],\n",
    "    'Mid Stage': ['Mid series'],\n",
    "    'Pre Seed Round': ['Pre seed Round', 'Pre-Seed', 'Pre seed round'],\n",
    "    'Pre Series A': ['pre-series A', 'Pre-series', 'Pre-series A', 'Pre- series A', 'Pre-seed', 'Pre-seed Round', 'Pre-series', 'Pre-Series A', 'Pre-series A', 'Pre-series A1', 'pre-Series A'],\n",
    "    'Pre Series B': ['Pre series B', 'Pre-series B'],\n",
    "    'Pre Series C': ['Pre series C', 'Pre-series C'],\n",
    "    'Seed Funding': ['Seed', 'SeedFunding', 'Seed A', 'Seed Funding', 'Seed Funding Round', 'Seed Investment', 'Seed round', 'Seed Round & Series A', 'Seed/ Angel Funding'],\n",
    "    'Series A': ['Series A', 'Seies A', 'Series A-1', 'Series A+', 'Series A2'],\n",
    "    'Series B': ['Series B', 'Series B (Extension)', 'Series B2', 'Series B3'],\n",
    "    'Series C': ['Series C', 'Series C, D'],\n",
    "    'Series D': ['Series D', 'Series D1'],\n",
    "    'Series E': ['Series E', 'Series E2'],\n",
    "    'Series F': ['Series F', 'Series F1', 'Series F2'],\n",
    "    'Series G': ['Series G'],\n",
    "    'Series H': ['Series H'],\n",
    "    'Series I': ['Series I'],\n",
    "    'Series J': ['Series J'],\n",
    "    'Term Loan': ['Term Loan'],\n",
    "    'Venture Funding': ['Venture', 'Single Venture', 'Venture - Series Unknown', 'Venture Round'],\n",
    "    'NaN' : ['$1000000', '$1200000', '$300000', '$6000000']\n",
    "}\n"
   ]
  },
  {
   "cell_type": "code",
   "execution_count": 23,
   "metadata": {},
   "outputs": [],
   "source": [
    "# Check if the 'Investment_type' column exists in the DataFrame\n",
    "if 'Investment_type' in Startups_2015_21.columns:\n",
    "    # Define a function to map investment types to standardized names\n",
    "    def map_investment_type(investment_type):\n",
    "        for key, values in investment_type_mapping.items():\n",
    "            if investment_type in values:\n",
    "                return key\n",
    "        return investment_type  # Return the original type if not found in the mapping\n",
    "\n",
    "    # Apply the mapping function to the 'Investment_type' column\n",
    "    Startups_2015_21['Investment_type'] = Startups_2015_21['Investment_type'].apply(map_investment_type)\n",
    "else:\n",
    "    # Print a message if the 'Investment_type' column does not exist in the DataFrame\n",
    "    print(\"Column 'Investment_type' does not exist in the DataFrame.\")"
   ]
  },
  {
   "cell_type": "code",
   "execution_count": 24,
   "metadata": {},
   "outputs": [
    {
     "name": "stdout",
     "output_type": "stream",
     "text": [
      "['Equity Funding' 'Seed Funding' 'Angel Funding' 'Private'\n",
      " 'Debt Financing' 'Seed/Angel Funding' 'Term Loan' 'Series C' 'Series D'\n",
      " 'Series A' 'Series B' 'Mezzanine Funding' 'Series H' 'Venture Funding'\n",
      " nan 'Funding Round' 'Series F' 'Series E' 'Seed Round' 'Series G'\n",
      " 'Corporate Round' 'Pre Series A' 'Seed funding' 'Inhouse Funding'\n",
      " 'Maiden Round' 'Bridge Round' 'Series J' 'Crowd Funding' 'NaN'\n",
      " 'Pre Seed Round' 'Early Seed' 'Pre Series B']\n"
     ]
    }
   ],
   "source": [
    "# Print the unique values in the 'Investment_type' column to verify the updates.\n",
    "print(Startups_2015_21['Investment_type'].unique())"
   ]
  },
  {
   "cell_type": "markdown",
   "metadata": {},
   "source": [
    "### Filling Investment type missing values using the top most prevalent investment type based on occurrence probability."
   ]
  },
  {
   "cell_type": "code",
   "execution_count": 25,
   "metadata": {},
   "outputs": [
    {
     "name": "stdout",
     "output_type": "stream",
     "text": [
      "Investment_type\n",
      "Seed Funding      1613\n",
      "Equity Funding    1371\n",
      "Pre Series A        73\n",
      "Name: count, dtype: int64\n"
     ]
    }
   ],
   "source": [
    "# Retrieve and store the top 3 most common investment types from the 'Investment_type' column.\n",
    "top_three_Investment_type = Startups_2015_21['Investment_type'].value_counts().head(3)\n",
    "\n",
    "# Print the names and counts of the top three investment types.\n",
    "print(top_three_Investment_type)"
   ]
  },
  {
   "cell_type": "code",
   "execution_count": 26,
   "metadata": {},
   "outputs": [],
   "source": [
    "# Calculate the distribution of 'Seed Funding' and 'Equity Funding' investment types\n",
    "investment_type_filtered = Startups_2015_21['Investment_type'].value_counts(normalize=True)\n",
    "filtered_types = investment_type_filtered.loc[['Seed Funding', 'Equity Funding']]\n",
    "\n",
    "# Normalize the probabilities to ensure they sum to 1\n",
    "filtered_types /= filtered_types.sum()\n",
    "\n",
    "# Define a function to fill missing investment types with 'Seed Funding' and 'Equity Funding'\n",
    "def fill_missing_investment_types(row):\n",
    "    if pd.isna(row['Investment_type']):\n",
    "        # np.random.choice will choose between 'Seed Funding' and 'Equity Funding' based on updated probabilities\n",
    "        return np.random.choice(filtered_types.index, p=filtered_types.values)\n",
    "    else:\n",
    "        return row['Investment_type']\n",
    "\n",
    "# Apply the function to fill missing investment types in the 'Investment_type' column\n",
    "Startups_2015_21['Investment_type'] = Startups_2015_21.apply(fill_missing_investment_types, axis=1)"
   ]
  },
  {
   "cell_type": "markdown",
   "metadata": {},
   "source": [
    "### Industry Verticals"
   ]
  },
  {
   "cell_type": "code",
   "execution_count": 27,
   "metadata": {},
   "outputs": [
    {
     "name": "stdout",
     "output_type": "stream",
     "text": [
      "Industry_vertical\n",
      "Consumer Internet    959\n",
      "Technology           482\n",
      "eCommerce            189\n",
      "Name: count, dtype: int64\n"
     ]
    }
   ],
   "source": [
    "# Retrieve and store the top 3 most common industry verticals from the 'Industry_vertical' column.\n",
    "top_three_industries = Startups_2015_21['Industry_vertical'].value_counts().head(3)\n",
    "\n",
    "# Print the names and counts of the top three industry verticals.\n",
    "print(top_three_industries)"
   ]
  },
  {
   "cell_type": "markdown",
   "metadata": {},
   "source": [
    "To fill missing values, using the top two industries (Consumer Internet and Technology) based on their occurrence probability."
   ]
  },
  {
   "cell_type": "code",
   "execution_count": 28,
   "metadata": {},
   "outputs": [],
   "source": [
    "# Calculate the distribution of existing industries and limit to the top 2 most common.\n",
    "Industry_type_counts = Startups_2015_21['Industry_vertical'].value_counts(normalize=True).head(2)\n",
    "\n",
    "# Normalize the probabilities manually to ensure they sum to 1.\n",
    "normalized_probs = Industry_type_counts / Industry_type_counts.sum()\n",
    "\n",
    "# Define a function to fill missing industry types based on the normalized distribution.\n",
    "def fill_missing_Industry_types(row):\n",
    "    if pd.isna(row['Industry_vertical']):\n",
    "        # Use the normalized probabilities which are guaranteed to sum to 1.\n",
    "        return np.random.choice(Industry_type_counts.index, p=normalized_probs.values)\n",
    "    else:\n",
    "        return row['Industry_vertical']\n",
    "\n",
    "# Apply the function to fill missing industry types in the 'Industry_vertical' column.\n",
    "Startups_2015_21['Industry_vertical'] = Startups_2015_21.apply(fill_missing_Industry_types, axis=1)"
   ]
  },
  {
   "cell_type": "markdown",
   "metadata": {},
   "source": [
    "### Funding Amount"
   ]
  },
  {
   "cell_type": "markdown",
   "metadata": {},
   "source": [
    "Replacing non-numeric entries to NaN and converting the rest to numeric values"
   ]
  },
  {
   "cell_type": "code",
   "execution_count": 29,
   "metadata": {},
   "outputs": [],
   "source": [
    "# Define the values to be replaced with NaN in the 'Amount_usd' column.\n",
    "values_to_replace = ['Upsparks', 'unknown', 'Undisclosed', 'Undiclsosed', \n",
    "                     'Series C', 'Seed', 'Pre-series A', \n",
    "                     'JITO Angel Network, LetsVenture', 'ITO Angel Network, LetsVenture', \n",
    "                     'ah! Ventures', '$', '$Undisclosed', '$undisclosed', 'undisclosed', '$887,000, $23,000,000','$800,000,000 to $850,000,000','14,342,000+']"
   ]
  },
  {
   "cell_type": "code",
   "execution_count": 30,
   "metadata": {},
   "outputs": [
    {
     "name": "stdout",
     "output_type": "stream",
     "text": [
      "['73,700,000' '10,000,000' '1,500,000' nan '390,000' '104,500,000'\n",
      " '1,000,000' '233,000' '700,000' '5,000,000' '3,200,000' '50,000'\n",
      " '1,400,000' '7,700,000' '600,000' '4,000,000' '466,000' '500,000'\n",
      " '3,000,000' '250,000' '5,300,000' '1,400,000,000' '30,000,000'\n",
      " '6,600,000' '580,000' '8,000,000' '3,500,000' '80,000,000' '7,000,000'\n",
      " '15,700,000' '4,700,000' '2,500,000' '1,930,000' '18,840,000'\n",
      " '23,500,000' '36,230,000' '80,000' '20,000,000' '354,600' '25,000,000'\n",
      " '18,200,000' '400,000' '47,000,000' '8,600,000' '6,240,000' '7,400,000'\n",
      " '50,000,000' '7,600,000' '4,400,000' '630,000' '13,500,000' '60,000,000'\n",
      " '161,000' '6,500,000' '395,000' '100,000,000' '11,000,000' '20,000'\n",
      " '470,000' '7,500,000' '10,200,000' '16,200,000' '685,000' '19,350,000'\n",
      " '300,000' '790,000' '2,300,000' '1,600,000' '100,000' '15,000,000'\n",
      " '4,850,000' '2,000,000' '12,750,000' '320,000' '6,000,000' '700,000,000'\n",
      " '1,300,000' '2,400,000' '1,200,000' '16,000,000' '168,000' '2,700,000'\n",
      " '40,000' '200,000' '150,000' '750,000' '450,000' '550,000' '6,700,000'\n",
      " '1,350,000' '900,000' '315,000' '670,000' '448,000' '12,300,000'\n",
      " '31,300,000' '298,000' '350,000' '425,000' '745,000' '1,580,000'\n",
      " '51,000,000' '180,000' '19,000,000' '5,500,000' '120,000' '110,000,000'\n",
      " '166,000' '2,800,000' '160,000' '1,750,000' '115,000' '75,000,000'\n",
      " '5,600,000' '10,750,000' '26,000,000' '25,000,0000' '780,000' '6,900,000'\n",
      " '6,200,000' '17,000,000' '11,500,000' '44,000,000' '15,400,000' '422,000'\n",
      " '3,800,000' '8,200,000' '40,000,000' '6,100,000' '3,690,000' '21,000,000'\n",
      " '18,000,000' '4,600,000' '4,500,000' '2,100,000' '260,000,000' '310,000'\n",
      " '175,000' '620,000' '4,650,000' '1,250,000' '155,000' '6,300,000'\n",
      " '250,000,000' '245,000' '3,100,000' '3,600,000' '22,000,000' '376,000'\n",
      " '145,000' '12,000,000' '375,000' '75,000' '2,750,000' '2,200,000'\n",
      " '89,000' '475,000' '8,900,000' '82,000,000' '1,700,000' '740,000'\n",
      " '297,000' '1,950,000' '12,250,000' '1,070,000' '650,000' '595,000'\n",
      " '16,700,000' '141,000' '446,000' '9,000,000' '830,000' '133,000'\n",
      " '165,000' '150,000,000' '400,000,000' '35,000,000' '28,000,000'\n",
      " '1,800,000' '21,500,000' '1,38,995' '27,799,000' '5,00,000' '300,000,000'\n",
      " '278,000' '31,000,000' '3,400,000' '29,500,000' '42,000,000' '45,000,000'\n",
      " '260,000' '205,000' '770,000' '9,200,000' '225,000,000' '4,250,000'\n",
      " '410,000' '1,150,000' '37,500,000' '235,000' '125,000' '800,000'\n",
      " '2,250,000' '3,300,000' '680,000,000' '36,000,000' '330,000,000'\n",
      " '275,000' '200,000,000' '19,500,000' '1,790,000' '30,000' '3,650,000'\n",
      " '1,100,000' '443,000' '3,350,000' '3,670,000' '191,000' '56,000,000'\n",
      " '382,000' '325,000' '11,100,000' '223,608' '14,900,000' '230,000'\n",
      " '108,000' '360,000' '330,000' '15,000,0000' '486,000' '17,411,265'\n",
      " '135,000,000' '220,000,000' '15,800,000' '283,000,000' '1,000,000,000'\n",
      " '2,600,000' '8,500,000' '464,000' '18,500,000' '540,000' '85,000,000'\n",
      " '270,000' '625,000' '240,000' '70,000,000' '5,900,000' '231,000,000'\n",
      " '40,00,000' '12,200,000' '66,000,000' '1,14,811' '58,50,000' '10,00,000'\n",
      " '48,00,000' '60,00,000' '1,42,70,000' '1,34,00000' '42,00000' '50,00000'\n",
      " '30,00000' '60,00,00,000' '140,000,000' '38,080,000' '125,000,000'\n",
      " '37,000,000' '6,590,000' '3,900,000,000' '572,000' '143,000'\n",
      " '5,10,00,000' '1,00,00,000' '48,89,975.54' '90,00,000' '7,50,00,000'\n",
      " '25,00,000' '27,39,034.68' '1,51,09,500.00' '4,30,200' '1,55,00,000'\n",
      " '5,20,00,000' '35,84,000' '23,000,000' '2,15,00,000' '1,480,0000'\n",
      " '1,01,00,000' '3,000,00' '4,50,000' '3,450,000' '17,00,000' '11,00,000'\n",
      " '9,100,000' '89,50,000' '30,00,000' '14,680,000' '4,50,00,000'\n",
      " '58,50,00,000' '4,300,000' '6,830,000' '87,000,000' '935,089' '311,200'\n",
      " '148,434' '6,230,000' '772,500' '1,040,000' '115,000,000' '226,000,000'\n",
      " '55,000,000' '5,800,000' '22,400,000' '15,200,000' '38,700,000' '94,000'\n",
      " '22,500' '81,000' '52,000' '12,500,000' '970,000' '73,000' '37,000'\n",
      " '70,000' '13,000,000' '16,600' '518,000' '16,500,000' '4,150,000'\n",
      " '290,000' '5,200,000' '225,000' '210,000' '148,000' '32,000,000'\n",
      " '295,000' '220,000' '368,000' '9,500,000' '77,000' '190,000' '2,950,000'\n",
      " '1,530,000' '640,000' '130,000' '234,000' '232,000' '7,800,000' '776,000'\n",
      " '215,000' '71,000,000' '311,000' '137,000,000' '140,000' '306,000'\n",
      " '336,000' '77,000,000' '118,000' '722,000' '14,000,000' '4,200,000'\n",
      " '3,750,000' '1,050,000' '25,000' '227,000' '971,000' '27,000,000'\n",
      " '147,000' '440,000' '123,000' '162,000' '324,000' '850,000' '243,000'\n",
      " '783,000' '2,500,000,000' '312,000' '385,000' '187,000' '6,800,000'\n",
      " '734,000' '34,000,000' '890,000' '27,000' '445,000' '209,000'\n",
      " '15,600,000' '62,000,000' '175,000,000' '675,000' '24,000,000' '149,000'\n",
      " '104,000' '17,500,000' '7,200,000' '537,000' '7,000,0000' '22,500,000'\n",
      " '303,000' '500,000,000' '9,600,000' '785,000' '90,000,000' '63,000,000'\n",
      " '156,000' '2,2000,000' '949,000' '4200000' '735,000' '293,000'\n",
      " '15,00,000' '80,00000' '13,000,00' '366,000' '825,000' '57,000,000'\n",
      " '4,100,000' '441,000' '8,800,000' '106,000' '68,000' '18,000' '430,665'\n",
      " '3,591,375' '6,320,820' '2,443,495' '307,000' '450,000,000' '63,90,000'\n",
      " '15,72,00,000' '55,00,000' '16,600,000' '460,000' '490,000' '1,900,000'\n",
      " '3,700,000' '530,000' '455,000' '305,000' '52,000,000' '110,000'\n",
      " '13,400,000' '120,000,000' '1,450,000' '307,600' '13,00,000'\n",
      " '5,50,00,000' '28,00,000' '1,000,000,' '46,140' '46,000,00' '11,000,00'\n",
      " '19,00,000' '1,10,00,000' '1,50,000' '2,20,00,000' '246,000' '75,00,000'\n",
      " '978,000' '180,000,000' '45,000' '5,400,000' '145,000,000' '520,000'\n",
      " '515,000' '370,000' '185,000' '5,150,000' '868,600' '14,00,00,000'\n",
      " '1,15,00,000' '56,00,000' '5,750,000' '319,605' '570,000' '872,000'\n",
      " '825,0000' '692,000' '329,230' '20,000,0000' '270,000,000' '39,000'\n",
      " '9,700,000' '38,400,000' '1,72,00,000' '6,20,00,000' '13,10,000'\n",
      " '768,000' '12,40,000' '5,35,000' '90,000' '963,000' '218,000' '62,50,000'\n",
      " '2,7700,000' '437,000' '29,000,000' '4,97,00,000' '10,00,00,000'\n",
      " '2,80,000' '4,36,000' '1,70,00,000' '12,50,000' '2,150,000' '380,000'\n",
      " '135,000' '285,000' '30,768' '16,000' '14,750,000' '3,250,000' '$400,000'\n",
      " '$120,000' '$100,000' '$750,000' '$560,000' '$1,700,000' '$600,000'\n",
      " '$2000000' '$800000' '$13000000' '$1500000' '$1000000' '$4000000'\n",
      " '$17500000' '$42000000' '$6000000' '$300000' '$3500000' '$500000'\n",
      " '$400000' '$3000000' '$700000' '$5000000' '$16000000' '$200000'\n",
      " '$1700000' '$20000000' '$4,300,000' '$1,000,000' '$4900000' '$6600000'\n",
      " '$32000000' '$150000000' '$461000' '$70000000' '$4500000' '$1200000'\n",
      " '$9500000' '$100000000' '$260000' '$2900000' '$1100000' '$130000'\n",
      " '$$100,00' '$111000000' '$60000000' '$150000' '$600000' '$100000'\n",
      " '$2500000' '$135000000' '$8000000' '$15000000' '$5500000' '$2,500,000'\n",
      " '$33,000,000' '$1,300,000' '$575,000' '$2,000,000' '$300,000'\n",
      " '$10,000,000' '$2,600,000' '$1,600,000' '$250,000' '$5,000,000'\n",
      " '$500,000' '$720,000' '$15,000,000' '$260,000' '$200,000' '$150,000'\n",
      " '$350,000' '$4,100,000' '$4300000' '$570000' '$1300000' '$30000000'\n",
      " '$125000000' '$50000000' '$2200000' '$7000000' '$6750000' '$78000000'\n",
      " '$3200000' '$40000000' '$3,500,000' '$4,500,000' '$6,000,000'\n",
      " '$1,100,000' '$140000' '$1800000' '$125000' '$26000000' '$620000'\n",
      " '$900000' '$2600000' '$15,500,000' '$1,500,000' '$800,000' '$10000000'\n",
      " '$36000000' '$10200000' '$330000' '$11000000' '$5200000' '$30,000,000'\n",
      " '$1,800,000' '$50,000,000' '$3,000,000' '$16,500,000' '$450,000'\n",
      " '$550000' '$4200000' '$2300000' '$14000000' '$340000' '$750000' '$320000'\n",
      " '$7,500,000' '$5,500,000' '$35,000,000']\n"
     ]
    }
   ],
   "source": [
    "# Replace non-numeric values in 'Amount_usd' with NaN, allowing for accurate numerical analysis.\n",
    "for value in values_to_replace:\n",
    "    Startups_2015_21['Amount_usd'] = Startups_2015_21['Amount_usd'].replace(value, np.nan)\n",
    "\n",
    "# Print the unique values in 'Amount_usd' to verify the replacement.\n",
    "print(Startups_2015_21['Amount_usd'].unique())"
   ]
  },
  {
   "cell_type": "markdown",
   "metadata": {},
   "source": [
    "Removing $ and comma, for example- changing $450,000 to 450000, for maintain consistency amoung values"
   ]
  },
  {
   "cell_type": "code",
   "execution_count": 31,
   "metadata": {},
   "outputs": [],
   "source": [
    "# Remove dollar signs and commas from 'Amount_usd', convert to numbers, replacing non-convertible strings with NaN.\n",
    "Startups_2015_21['Amount_usd'] = Startups_2015_21['Amount_usd'].str.replace(r'\\$', '', regex=True)"
   ]
  },
  {
   "cell_type": "code",
   "execution_count": 32,
   "metadata": {},
   "outputs": [
    {
     "name": "stdout",
     "output_type": "stream",
     "text": [
      "Descriptive Statistics of 'Amount_usd' after conversion:\n",
      "count    2.379000e+03\n",
      "mean     1.694688e+07\n",
      "std      1.133390e+08\n",
      "min      1.000000e+04\n",
      "25%      5.000000e+05\n",
      "50%      1.600000e+06\n",
      "75%      7.500000e+06\n",
      "max      3.900000e+09\n",
      "Name: Amount_usd, dtype: float64\n"
     ]
    }
   ],
   "source": [
    "# Remove commas from 'Amount_usd' and convert the string values to floats.\n",
    "Startups_2015_21['Amount_usd'] = Startups_2015_21['Amount_usd'].str.replace(',', '').astype(float)\n",
    "\n",
    "# Output the descriptive statistics for 'Amount_usd' after converting data types.\n",
    "print(\"Descriptive Statistics of 'Amount_usd' after conversion:\")\n",
    "print(Startups_2015_21['Amount_usd'].describe())"
   ]
  },
  {
   "cell_type": "markdown",
   "metadata": {},
   "source": [
    "### Filling Funding Amount missing values by using two appreaches: \n",
    "1) Industry-specific mean: Imputing with the average amounts from similar industry verticals,\n",
    "2) General median: For industries without enough data to compute a meaningful average, I am using the median investment amount not the mean amount from the entire dataset because then I can mitigates the impact of outliers in highly skewed data and provides a more robust filler for missing values."
   ]
  },
  {
   "cell_type": "code",
   "execution_count": 33,
   "metadata": {},
   "outputs": [
    {
     "name": "stdout",
     "output_type": "stream",
     "text": [
      "   Industry_vertical  Amount_usd\n",
      "0  Consumer Internet 73700000.00\n",
      "1          eCommerce 10000000.00\n",
      "2         Technology  1500000.00\n",
      "3          Logistics 10000000.00\n",
      "4  Consumer Internet 10383440.53\n"
     ]
    }
   ],
   "source": [
    "# Fill missing 'Amount_usd' values in each industry group with the group's mean.\n",
    "Startups_2015_21['Amount_usd'] = Startups_2015_21.groupby('Industry_vertical')['Amount_usd'].transform(lambda x: x.fillna(x.mean()))\n",
    "\n",
    "# Fill any remaining NaN values in 'Amount_usd' with the column's median.\n",
    "Startups_2015_21['Amount_usd'] = Startups_2015_21['Amount_usd'].fillna(Startups_2015_21['Amount_usd'].median())\n",
    "\n",
    "# Set display options to format floating-point numbers to show 2 decimal places.\n",
    "pd.set_option('display.float_format', '{:.2f}'.format)\n",
    "\n",
    "# Display the first few rows of 'Industry_vertical' and 'Amount_usd' to verify the changes.\n",
    "print(Startups_2015_21[['Industry_vertical', 'Amount_usd']].head())"
   ]
  },
  {
   "cell_type": "markdown",
   "metadata": {},
   "source": [
    "Checking Missing values"
   ]
  },
  {
   "cell_type": "code",
   "execution_count": 34,
   "metadata": {},
   "outputs": [
    {
     "name": "stdout",
     "output_type": "stream",
     "text": [
      "Date                   0\n",
      "Startup_name           0\n",
      "Industry_vertical      0\n",
      "City_location        183\n",
      "Investors_name        45\n",
      "Investment_type        0\n",
      "Amount_usd             0\n",
      "dtype: int64\n",
      "Date                0.00\n",
      "Startup_name        0.00\n",
      "Industry_vertical   0.00\n",
      "City_location       5.36\n",
      "Investors_name      1.32\n",
      "Investment_type     0.00\n",
      "Amount_usd          0.00\n",
      "dtype: float64\n"
     ]
    }
   ],
   "source": [
    "# Calculate the number of missing values in each column of Startups_2015_21.\n",
    "missing_values_count = Startups_2015_21.isna().sum()\n",
    "print(missing_values_count)\n",
    "\n",
    "# Calculate the total number of rows in Startups_2015_21.\n",
    "total_rows = len(Startups_2015_21)\n",
    "\n",
    "# Compute the percentage of missing values in each column.\n",
    "missing_percentage = (missing_values_count / total_rows) * 100\n",
    "print(missing_percentage)"
   ]
  },
  {
   "cell_type": "markdown",
   "metadata": {},
   "source": [
    "### Cities and Investors:\n",
    "For dealing with the missing values of city locations and investor names, I am using the most frequent entries based on their occurrence probability"
   ]
  },
  {
   "cell_type": "code",
   "execution_count": 35,
   "metadata": {},
   "outputs": [
    {
     "name": "stdout",
     "output_type": "stream",
     "text": [
      "City_location\n",
      "Bangalore    860\n",
      "Mumbai       624\n",
      "New Delhi    465\n",
      "Name: count, dtype: int64\n"
     ]
    }
   ],
   "source": [
    "# Retrieve and store the top 3 most common city locations in Startups_2015_21.\n",
    "top_three_cities = Startups_2015_21['City_location'].value_counts().head(3)\n",
    "\n",
    "# Print the names and counts of the top three city locations.\n",
    "print(top_three_cities)"
   ]
  },
  {
   "cell_type": "markdown",
   "metadata": {},
   "source": [
    "Using top Three dominating cities with great margins for filling the missing values- Bangalore, Gurgaon and New Delhi"
   ]
  },
  {
   "cell_type": "code",
   "execution_count": 36,
   "metadata": {},
   "outputs": [],
   "source": [
    "# Calculate the relative frequency of the top 3 city locations in Startups_2015_21.\n",
    "city_counts = Startups_2015_21['City_location'].value_counts(normalize=True).head(3)\n",
    "\n",
    "# Adjust probabilities of the top 3 cities to sum to 1.\n",
    "probabilities = city_counts / city_counts.sum()\n",
    "\n",
    "# Define a function to fill missing 'City_location' using a probability distribution of the top 3 cities.\n",
    "def fill_missing_cities(row):\n",
    "    if pd.isna(row['City_location']):\n",
    "        # Use np.random.choice to randomly select a city from the top 3, weighted by their probabilities.\n",
    "        return np.random.choice(city_counts.index, p=probabilities.values)\n",
    "    else:\n",
    "        return row['City_location']\n",
    "\n",
    "# Apply the function to fill in missing 'City_location' values across the dataframe.\n",
    "Startups_2015_21['City_location'] = Startups_2015_21.apply(fill_missing_cities, axis=1)"
   ]
  },
  {
   "cell_type": "markdown",
   "metadata": {},
   "source": [
    "Checking the top investors"
   ]
  },
  {
   "cell_type": "code",
   "execution_count": 37,
   "metadata": {},
   "outputs": [
    {
     "name": "stdout",
     "output_type": "stream",
     "text": [
      "Investors_name\n",
      "Undisclosed Investors        39\n",
      "Undisclosed investors        31\n",
      "Indian Angel Network         26\n",
      "Ratan Tata                   25\n",
      "Kalaari Capital              17\n",
      "Sequoia Capital              17\n",
      "Group of Angel Investors     15\n",
      "Undisclosed Investor         13\n",
      "Venture Catalysts            12\n",
      "Accel Partners               12\n",
      "Brand Capital                11\n",
      "undisclosed investors        11\n",
      "Inflection Point Ventures    11\n",
      "Nexus Venture Partners       11\n",
      "Undisclosed                  11\n",
      "SAIF Partners                10\n",
      "RoundGlass Partners          10\n",
      "Tiger Global                  9\n",
      "Undisclosed investor          9\n",
      "Info Edge (India) Ltd         9\n",
      "Name: count, dtype: int64\n"
     ]
    }
   ],
   "source": [
    "# Retrieve and store the top 20 most frequent investors from 'Investors_name' in Startups_2015_21.\n",
    "Top_Investors = Startups_2015_21['Investors_name'].value_counts().head(20)\n",
    "\n",
    "# Print the names and counts of the top 20 investors to verify the data.\n",
    "print(Top_Investors)"
   ]
  },
  {
   "cell_type": "markdown",
   "metadata": {},
   "source": [
    "Using dictionary to map Undisclosed investors to overcome data typos errors and can get better data for my analysis"
   ]
  },
  {
   "cell_type": "code",
   "execution_count": 38,
   "metadata": {},
   "outputs": [],
   "source": [
    "# Create a dictionary mapping variations of investor names to a standard format.\n",
    "investor_name_mapping = {\n",
    "    'Undisclosed Investors': ['Undisclosed investors', 'Undisclosed Investors', 'Undisclosed Investor', \n",
    "                              'undisclosed investors', 'Undisclosed', 'Undisclosed investor']\n",
    "}\n",
    "\n",
    "# Define a function to standardize investor names based on predefined mappings.\n",
    "def map_investor_name(investor_name):\n",
    "    for standard_name, variations in investor_name_mapping.items():\n",
    "        if investor_name in variations:\n",
    "            return standard_name  # Return standardized name if found in mapping\n",
    "    return investor_name  # Return original name if no match found\n",
    "\n",
    "# Apply the function to normalize names in the 'Investors_name' column.\n",
    "Startups_2015_21['Investors_name'] = Startups_2015_21['Investors_name'].apply(map_investor_name)"
   ]
  },
  {
   "cell_type": "code",
   "execution_count": 39,
   "metadata": {},
   "outputs": [
    {
     "name": "stdout",
     "output_type": "stream",
     "text": [
      "Investors_name\n",
      "Undisclosed Investors    114\n",
      "Indian Angel Network      26\n",
      "Ratan Tata                25\n",
      "Name: count, dtype: int64\n"
     ]
    }
   ],
   "source": [
    "# Retrieve and store the top 3 most frequent investors from 'Investors_name' in Startups_2015_21.\n",
    "Top_3_Investors = Startups_2015_21['Investors_name'].value_counts().head(3)\n",
    "\n",
    "# Print the names and counts of the top 3 investors to verify the data.\n",
    "print(Top_3_Investors)"
   ]
  },
  {
   "cell_type": "code",
   "execution_count": 40,
   "metadata": {},
   "outputs": [
    {
     "name": "stdout",
     "output_type": "stream",
     "text": [
      "Mode of Investor_name: Undisclosed Investors\n"
     ]
    }
   ],
   "source": [
    "# Calculate the most frequently occurring investor name (mode) in the 'Investors_name' column.\n",
    "mode_investor_name = Startups_2015_21['Investors_name'].mode()[0]\n",
    "\n",
    "# Print the mode to indicate the value used for filling missing entries.\n",
    "print(\"Mode of Investor_name:\", mode_investor_name)\n",
    "\n",
    "# Replace all missing values in 'Investors_name' with the calculated mode.\n",
    "Startups_2015_21['Investors_name'].fillna(mode_investor_name, inplace=True)"
   ]
  },
  {
   "cell_type": "markdown",
   "metadata": {},
   "source": [
    "Checking Missing values"
   ]
  },
  {
   "cell_type": "code",
   "execution_count": 41,
   "metadata": {},
   "outputs": [
    {
     "name": "stdout",
     "output_type": "stream",
     "text": [
      "Date                 0\n",
      "Startup_name         0\n",
      "Industry_vertical    0\n",
      "City_location        0\n",
      "Investors_name       0\n",
      "Investment_type      0\n",
      "Amount_usd           0\n",
      "dtype: int64\n",
      "Date                0.00\n",
      "Startup_name        0.00\n",
      "Industry_vertical   0.00\n",
      "City_location       0.00\n",
      "Investors_name      0.00\n",
      "Investment_type     0.00\n",
      "Amount_usd          0.00\n",
      "dtype: float64\n"
     ]
    }
   ],
   "source": [
    "# Calculate the number of missing values in each column of Startups_2015_21.\n",
    "missing_values_count = Startups_2015_21.isna().sum()\n",
    "print(missing_values_count)\n",
    "\n",
    "# Calculate the total number of rows in Startups_2015_21.\n",
    "total_rows = len(Startups_2015_21)\n",
    "\n",
    "# Compute the percentage of missing values in each column.\n",
    "missing_percentage = (missing_values_count / total_rows) * 100\n",
    "print(missing_percentage)"
   ]
  },
  {
   "cell_type": "markdown",
   "metadata": {},
   "source": [
    "## 5.\tData Export: "
   ]
  },
  {
   "cell_type": "code",
   "execution_count": 42,
   "metadata": {},
   "outputs": [],
   "source": [
    "# Specify the file path to save the CSV file\n",
    "file_path = \"/Users/nick/Downloads/StartUp_2015-21.csv\"\n",
    "\n",
    "# Save the combined DataFrame to a CSV file \n",
    "Startups_2015_21.to_csv(file_path, index=False)"
   ]
  },
  {
   "cell_type": "markdown",
   "metadata": {},
   "source": [
    "# Part 2: Strategic Positioning"
   ]
  },
  {
   "cell_type": "markdown",
   "metadata": {},
   "source": [
    "## Visualisation 1: Number of Startups per Year"
   ]
  },
  {
   "cell_type": "code",
   "execution_count": 43,
   "metadata": {},
   "outputs": [
    {
     "data": {
      "image/png": "[encoded data removed]",
      "text/plain": [
       "<Figure size 1000x600 with 1 Axes>"
      ]
     },
     "metadata": {},
     "output_type": "display_data"
    }
   ],
   "source": [
    "# Correct common year typos: assuming the dataset has years like \"01/07/015\"  instead of '01/07/2015'\n",
    "Startups_2015_21['Date'] = Startups_2015_21['Date'].str.replace(r'(\\d{2}/\\d{2}/)(\\d{2})$', r'\\g<1>20\\2', regex=True)\n",
    "\n",
    "# Attempt to convert 'Date' column to datetime, coercing errors\n",
    "Startups_2015_21['Date'] = pd.to_datetime(Startups_2015_21['Date'], format='%d/%m/%Y', errors='coerce')\n",
    "\n",
    "# Drop rows where Date conversion failed (if any)\n",
    "startups_data = Startups_2015_21.dropna(subset=['Date'])\n",
    "\n",
    "# Extract the year from the 'Date' column\n",
    "startups_data['Year'] = startups_data['Date'].dt.year\n",
    "\n",
    "# Count the number of startups per year\n",
    "startups_per_year = startups_data['Year'].value_counts().sort_index()\n",
    "\n",
    "# Plotting the histogram of the number of startups per year\n",
    "plt.figure(figsize=(10, 6))\n",
    "sns.barplot(x=startups_per_year.index, y=startups_per_year.values, palette='viridis')\n",
    "plt.title('Number of Startups per Year')\n",
    "plt.xlabel('Year')\n",
    "plt.ylabel('Number of Startups')\n",
    "plt.xticks(rotation=45)\n",
    "plt.show()"
   ]
  },
  {
   "cell_type": "markdown",
   "metadata": {},
   "source": [
    "Looking at the bar chart depicting the number of startups funded each year from 2015 to 2021, I can draw several conclusions:\n",
    "\n",
    "1) Peak in Early Years: There was a noticeable peak in startup funding in 2015 and 2016. This suggests a robust investment climate or a burst of entrepreneurial activity during these years. Perhaps a booming economy or favorable startup policies played a significant role.\n",
    "\n",
    "2) Decline After 2016: After 2016, there was a clear decline in funding, with a particularly sharp drop in 2017. The downward trend continued, though more gradually, through to 2021. Several factors might explain this:\n",
    "- Market Saturation: As the startup ecosystem matured, market saturation could have led to increased competition for funding.\n",
    "- Economic Factors: Economic downturns or changes in investor sentiment could have reduced the availability of funds.\n",
    "- Policy Changes: Shifts in government policies related to startups or investments might have influenced funding dynamics.\n",
    "\n",
    "3) Significant Drop in 2020: The steep decline in 2020 coincides with the COVID-19 pandemic's onset. The pandemic likely made investors more cautious and posed unprecedented challenges for businesses. This cautious approach seemed to persist into 2021, reflecting ongoing uncertainties or potential economic impacts.\n",
    "\n",
    "4) Potential Data Issues: It’s important to consider the possibility of incomplete data, particularly for 2021. There might have been delays in capturing all data for that year, contributing to an apparent further decline.\n",
    "\n",
    "5) Impact on Sectors: A more detailed analysis by sector would help understand which industries were most affected. Some sectors, like healthcare or remote work technologies, might have boomed, while others, such as travel and hospitality, likely faced significant challenges.\n",
    "\n",
    "6) Resilience and Recovery: It’s crucial to monitor the resilience of the startup ecosystem and look for signs of recovery post-pandemic. A continued decline into 2021 might signal a more prolonged impact of the pandemic, whereas signs of stabilization or recovery could indicate adaptability and a resurgence of investor confidence."
   ]
  },
  {
   "cell_type": "markdown",
   "metadata": {},
   "source": [
    "## Visualisation 2: Total Funding Amount Over Years"
   ]
  },
  {
   "cell_type": "code",
   "execution_count": 44,
   "metadata": {},
   "outputs": [
    {
     "data": {
      "image/png": "[encoded data removed]",
      "text/plain": [
       "<Figure size 1200x600 with 1 Axes>"
      ]
     },
     "metadata": {},
     "output_type": "display_data"
    },
    {
     "data": {
      "text/plain": [
       "(count         3408.00\n",
       " mean      15537412.32\n",
       " std       96402807.03\n",
       " min          10000.00\n",
       " 25%         900000.00\n",
       " 50%        4000000.00\n",
       " 75%       10383440.53\n",
       " max     3900000000.00\n",
       " Name: Amount_usd, dtype: float64,\n",
       " Year\n",
       " 2015.00   10241156752.81\n",
       " 2016.00    9946000138.51\n",
       " 2017.00   13347505267.69\n",
       " 2018.00    5676273684.48\n",
       " 2019.00    9797668317.46\n",
       " 2020.00    2566878551.76\n",
       " 2021.00    1376018489.97\n",
       " Name: Amount_usd, dtype: float64)"
      ]
     },
     "execution_count": 44,
     "metadata": {},
     "output_type": "execute_result"
    }
   ],
   "source": [
    "# Convert 'Date' column to datetime\n",
    "Startups_2015_21['Date'] = pd.to_datetime(Startups_2015_21['Date'], errors='coerce')\n",
    "\n",
    "# Extract year from the 'Date' column for trend analysis\n",
    "Startups_2015_21['Year'] = Startups_2015_21['Date'].dt.year\n",
    "\n",
    "# Drop rows with NaT in 'Date' column if any exist after conversion\n",
    "startup_data = Startups_2015_21.dropna(subset=['Date'])\n",
    "\n",
    "# Descriptive statistics of the numerical columns\n",
    "desc_stats = startup_data['Amount_usd'].describe()\n",
    "\n",
    "# Trend analysis - Total funding amount per year\n",
    "trend_yearly = startup_data.groupby('Year')['Amount_usd'].sum()\n",
    "\n",
    "# Setting the aesthetic style of the plots\n",
    "sns.set(style=\"whitegrid\")\n",
    "\n",
    "# Plot for trend analysis\n",
    "plt.figure(figsize=(12, 6))\n",
    "sns.lineplot(data=trend_yearly, marker='o')\n",
    "plt.title('Total Funding Amount Over Years')\n",
    "plt.xlabel('Year')\n",
    "plt.ylabel('Total Funding Amount (USD)')\n",
    "plt.xticks(trend_yearly.index, rotation=45)\n",
    "plt.tight_layout()\n",
    "plt.show()\n",
    "\n",
    "desc_stats, trend_yearly"
   ]
  },
  {
   "cell_type": "markdown",
   "metadata": {},
   "source": [
    "Analyzing the descriptive statistics for the 'Amount_usd' column, here's what I've noticed:\n",
    "\n",
    "- Count: The dataset includes 3,408 transactions.\n",
    "- Mean: The average funding amount is approximately USD 15.5 million.\n",
    "- Standard Deviation: There's a very high standard deviation at USD 96.4 million, indicating a significant range in funding amounts.\n",
    "- Minimum: The smallest funding recorded is USD 10,000.\n",
    "- 25th Percentile: At USD 900,000, this tells me that 25% of the funding amounts are below this figure.\n",
    "- Median: The median funding amount is USD 4 million, which is significantly lower than the mean, suggesting a right-skewed distribution.\n",
    "- 75th Percentile: USD 10.37 million is the cutoff for the top 25% of funding amounts.\n",
    "- Maximum: The largest funding amount recorded is USD 3.9 billion.\n",
    "\n",
    "Looking at the trend analysis of total funding amount over the years, significant funding activities occurred in 2015, 2016, and especially 2017, which saw the peak. However, there's been a decline in total funding since 2019, hitting its lowest in 2021. This decline could be attributed to several factors including market conditions or data completeness.\n",
    "\n",
    "Also, considering the impact of the COVID-19 pandemic, which started affecting global markets by the end of 2019 and persisted through 2020 and 2021, I can infer several potential effects on startup and venture funding:\n",
    "\n",
    "1) Investor Caution: During times of economic uncertainty, investors tend to be more conservative, favoring companies at later stages or those in industries less impacted by economic downturns.\n",
    "2) Operational Challenges for Startups: Startups, particularly in specific industries, faced hurdles due to lockdowns, supply chain disruptions, and shifts in consumer preferences, making them less appealing to investors.\n",
    "3) Shift in Consumer Behavior: The pandemic accelerated the shift towards digital services, healthcare, and remote work, likely redirecting funding towards startups in these areas.\n",
    "4) Cash Conservation: Startups and venture capital firms may have focused more on conserving cash and sustaining existing portfolio companies rather than pursuing new investments.\n",
    "5) Market Volatility: The financial markets were highly volatile during the initial stages of the pandemic, impacting the venture capital environment by potentially reducing investment activity as investors awaited more stable conditions.\n",
    "6) Travel Restrictions: The pandemic also imposed travel restrictions that complicated due diligence processes, typically involving in-person meetings and site visits, which could slow down or even halt investment deals.\n",
    "\n",
    "To fully grasp the impact of COVID-19 on the startup funding landscape, a more detailed examination across different industries is necessary, as the effects are not uniformly distributed. While startups in sectors like digital communication, health technology, and e-commerce might have seen an uptick in funding, those in travel, hospitality, and offline retail likely encountered greater challenges."
   ]
  },
  {
   "cell_type": "markdown",
   "metadata": {},
   "source": [
    "## Visualisation 3: Distribution of startup counts by Industry vertical"
   ]
  },
  {
   "cell_type": "code",
   "execution_count": 45,
   "metadata": {},
   "outputs": [
    {
     "data": {
      "image/png": "[encoded data removed]",
      "text/plain": [
       "<Figure size 1200x800 with 1 Axes>"
      ]
     },
     "metadata": {},
     "output_type": "display_data"
    }
   ],
   "source": [
    "# Create a figure with specified dimensions for better visualization.\n",
    "plt.figure(figsize=(12, 8))\n",
    "\n",
    "# Retrieve the top 10 most common industries from 'Industry_vertical' and store their counts.\n",
    "industry_counts = Startups_2015_21['Industry_vertical'].value_counts().head(10)\n",
    "\n",
    "# Create a horizontal bar plot showing the top 10 industries by number of startups funded.\n",
    "sns.barplot(y=industry_counts.index, x=industry_counts.values, palette=\"viridis\")\n",
    "\n",
    "# Set the title and labels for clarity in the visual representation.\n",
    "plt.title('Top 10 Industries by Number of Startups Funded')\n",
    "plt.xlabel('Number of Startups Funded')\n",
    "plt.ylabel('Industry Vertical')\n",
    "\n",
    "# Display the plot.\n",
    "plt.show()"
   ]
  },
  {
   "cell_type": "markdown",
   "metadata": {},
   "source": [
    "Top 10 Industries by Number of Startups Funded\n",
    "\n",
    "Looking at this bar plot, I'm immediately struck by the dominance of the Consumer Internet industry—it clearly leads by a significant margin, emphasizing how integral online platforms have become to our daily lives. The Technology and eCommerce sectors follow, which doesn’t surprise me given the digital transformation that's been accelerating worldwide. It’s evident these sectors are thriving due to high consumer demand, potential for innovation, and perhaps also due to the digital pivot necessitated by the pandemic.\n",
    "\n",
    "It's quite interesting to see Healthcare and FinTech also featuring prominently on the chart, showing that startups in these industries are garnering substantial attention and funds. These industries are at the forefront of innovation, dealing with essential services like health and finance, which have been areas of intense focus, especially lately. The presence of EdTech and Logistics highlights their growing importance in a world that’s rapidly adopting remote learning and relying on efficient supply chains. It’s fascinating to see these market trends and think about the impact these funded startups could have on our future."
   ]
  },
  {
   "cell_type": "markdown",
   "metadata": {},
   "source": [
    "## Visualisation 4: Average Funding Amount by Industry Vertical"
   ]
  },
  {
   "cell_type": "code",
   "execution_count": 46,
   "metadata": {},
   "outputs": [
    {
     "data": {
      "image/png": "[encoded data removed]",
      "text/plain": [
       "<Figure size 1000x600 with 1 Axes>"
      ]
     },
     "metadata": {},
     "output_type": "display_data"
    }
   ],
   "source": [
    "# Set the aesthetic style of the plots to 'whitegrid' for better visibility of data points.\n",
    "sns.set(style=\"whitegrid\")\n",
    "\n",
    "# Create a figure for the plot with specified dimensions for clarity.\n",
    "plt.figure(figsize=(10, 6))\n",
    "\n",
    "# Calculate and store the average funding amount by industry, selecting the top 10 highest averages.\n",
    "industry_avg = Startups_2015_21.groupby('Industry_vertical')['Amount_usd'].mean().sort_values(ascending=False)[:10]\n",
    "\n",
    "# Create a horizontal bar plot displaying the average funding by industry vertical.\n",
    "sns.barplot(x=industry_avg.values, y=industry_avg.index)\n",
    "\n",
    "# Format the x-axis to show the funding amounts in millions of dollars for readability.\n",
    "formatter = ticker.FuncFormatter(lambda x, _: f'${int(x / 1E6)}M')\n",
    "plt.gca().xaxis.set_major_formatter(formatter)\n",
    "\n",
    "# Set the title and axis labels to provide context about the data being visualized.\n",
    "plt.title('Average Funding Amount by Industry Vertical (Top 10)')\n",
    "plt.xlabel('Average Funding Amount (USD)')\n",
    "plt.ylabel('Industry Vertical')\n",
    "\n",
    "# Display the plot.\n",
    "plt.show()"
   ]
  },
  {
   "cell_type": "markdown",
   "metadata": {},
   "source": [
    "\n",
    "Looking at the top 10 industry verticals by average funding, it's clear that Transportation is leading the pack, likely due to the sector's potential amplified by tech advances. \n",
    "Close behind are E-Commerce & M-Commerce platforms, riding the wave of the digital shopping surge. Tech-centric areas like Car Aggregators and Online Marketplaces are also drawing hefty investments, reflecting a trend towards digital and convenience. Automation and B2B platforms, while lower on the scale, still pull in significant funds, suggesting a healthy interest in business optimization technologies. This chart tells a compelling story of where the market's heading and which sectors are drawing investors' eyes—and dollars."
   ]
  },
  {
   "cell_type": "markdown",
   "metadata": {},
   "source": [
    "## Visualisation 5: Distribution of start-up counts by City location"
   ]
  },
  {
   "cell_type": "code",
   "execution_count": 47,
   "metadata": {},
   "outputs": [
    {
     "data": {
      "image/png": "[encoded data removed]",
      "text/plain": [
       "<Figure size 1200x800 with 1 Axes>"
      ]
     },
     "metadata": {},
     "output_type": "display_data"
    }
   ],
   "source": [
    "# Create a figure with specified dimensions for better visualization.\n",
    "plt.figure(figsize=(12, 8))\n",
    "\n",
    "# Retrieve the top 10 cities with the most startups and store their counts.\n",
    "city_counts = Startups_2015_21['City_location'].value_counts().head(10)\n",
    "\n",
    "# Create a horizontal bar plot to display the distribution of startup counts by city location.\n",
    "sns.barplot(y=city_counts.index, x=city_counts.values, palette=\"viridis\")\n",
    "\n",
    "# Set the title and labels for clarity in the visual representation.\n",
    "plt.title('Top 10 Cities by Number of Startups Funded')\n",
    "plt.xlabel('Number of Startups Funded')\n",
    "plt.ylabel('City Location')\n",
    "\n",
    "# Display the plot.\n",
    "plt.show()\n"
   ]
  },
  {
   "cell_type": "markdown",
   "metadata": {},
   "source": [
    "Top 10 Cities by Number of Startups Funded:\n",
    "\n",
    "From this bar chart, I can see that it illustrates the top 10 cities by the number of startups funded. Bangalore, topping the chart, I can infer that Bangalore, being known as the Silicon Valley of India, evidently leads the pack, which doesn't come as a surprise given its well-established tech industry and startup culture. Mumbai following closely behind makes sense due to its financial infrastructure and status as a commercial capital. It's also interesting to see New Delhi and Gurgaon prominently featured, indicating the spread of startup culture across different regions.\n",
    "\n",
    "The chart provides clear evidence of these cities' roles as crucial startup ecosystems in India, likely providing the right mix of infrastructure, investor interest, and a culture of innovation that is so crucial for startups to thrive."
   ]
  },
  {
   "cell_type": "markdown",
   "metadata": {},
   "source": [
    "## Visualisation 6: Investment Type analysis"
   ]
  },
  {
   "cell_type": "code",
   "execution_count": 48,
   "metadata": {},
   "outputs": [
    {
     "data": {
      "image/png": "[encoded data removed]",
      "text/plain": [
       "<Figure size 1000x800 with 1 Axes>"
      ]
     },
     "metadata": {},
     "output_type": "display_data"
    }
   ],
   "source": [
    "# Group by 'Investment_type' to count the occurrences and select the top 5\n",
    "investment_types = startup_data['Investment_type'].value_counts().sort_values(ascending=False)[:5]\n",
    "\n",
    "# Create a figure with specified dimensions for better visualization\n",
    "plt.figure(figsize=(10, 8))\n",
    "\n",
    "# Plotting a horizontal bar plot for investment types\n",
    "sns.barplot(y=investment_types.index, x=investment_types.values, palette=\"Set2\")\n",
    "\n",
    "# Set the title and labels for clarity in the visual representation\n",
    "plt.title('Investment Types Frequency')\n",
    "plt.xlabel('Number of Investments')\n",
    "plt.ylabel('Investment Type')\n",
    "\n",
    "# Display the plot\n",
    "plt.show()"
   ]
  },
  {
   "cell_type": "markdown",
   "metadata": {},
   "source": [
    "The bar chart delineating the frequency of investment types unveils several trends:\n",
    "\n",
    "1) Predominance of Seed and Early-Stage Investments: The dataset exhibits a high occurrence of seed and early-stage investments. This pattern is anticipated, as a plethora of startups are at the inception stage and are actively seeking initial capital influx to prove their concepts and initiate operations.\n",
    "\n",
    "2) Growth-Stage Investment Insights: There's a noticeable drop-off in the frequency of Series A and Series B investments when compared to seed rounds. This is indicative of the natural attrition rate of startups, where only a subset successfully navigate beyond the early stages and continue to scale to a level where larger, more substantial rounds of funding are warranted.\n",
    "\n",
    "3) Rarity of Specialized Investments: Investment vehicles such as debt financing and private equity emerge less frequently within the dataset. Their presence often aligns with more mature startups that exhibit consistent revenue streams and stable growth trajectories, or those looking for leverage in transactions without relinquishing equity.\n",
    "\n",
    "4) Angel Investment Trends: Angel investments occupy a unique space within the funding landscape, providing vital support to startups during their nascent phase. The number of such investments reflects the activity and inclination of high-net-worth individuals and syndicates to foster early-stage companies.\n",
    "\n",
    "The granularity of these investment types and their respective frequencies are pivotal for comprehending the funding landscape. Entrepreneurs can leverage this data to strategize their fundraising approaches, targeting the most prevalent types of investments that align with their startup's stage of development. Investors can decipher these patterns to identify prevailing investment trends and assess the risk-to-reward ratios inherent to different stages of startup funding.\n",
    "\n",
    "\n",
    "\n",
    "\n",
    "\n",
    "\n"
   ]
  },
  {
   "cell_type": "markdown",
   "metadata": {},
   "source": [
    "## Visualisation 7: The distribution of funding amounts"
   ]
  },
  {
   "cell_type": "code",
   "execution_count": 49,
   "metadata": {},
   "outputs": [
    {
     "data": {
      "image/png": "[encoded data removed]",
      "text/plain": [
       "<Figure size 1200x600 with 1 Axes>"
      ]
     },
     "metadata": {},
     "output_type": "display_data"
    }
   ],
   "source": [
    "# Create a figure with specified dimensions for better visualization\n",
    "plt.figure(figsize=(12, 6))\n",
    "\n",
    "# Plotting a histogram of the distribution of funding amounts\n",
    "sns.histplot(Startups_2015_21['Amount_usd'], bins=50, kde=True)\n",
    "\n",
    "# Set the title and labels for clarity in the visual representation\n",
    "plt.title('Distribution of Funding Amounts')\n",
    "plt.xlabel('Funding Amount (USD)')\n",
    "plt.ylabel('Frequency')\n",
    "\n",
    "# Set the x-axis scale to logarithmic due to the wide range of funding amounts\n",
    "plt.xscale('log')\n",
    "\n",
    "# Display the plot\n",
    "plt.show()"
   ]
  },
  {
   "cell_type": "markdown",
   "metadata": {},
   "source": [
    "Distribution of Funding Amounts\n",
    "\n",
    "The histogram illustrates the frequency of various funding amounts within the dataset. Because startup funding are ranging from a few thousand dollars to several billion, the logarithmic scale on the x-axis allows us to compress the wide range of values into a more visually interpretable form.\n",
    "\n",
    "- Right-Skewed Distribution: Most startups receive a relatively small amount of funding, and this is reflected in the concentration of bars at the lower end of the scale. A right-skewed distribution means that while most startups receive lower funding amounts, there is a long tail on the right side representing a small number of startups that receive very large investments.\n",
    "\n",
    "- Outliers and Large Investments: The long tail to the right suggests that there are outliers with exceptionally large amounts of funding. These represent later-stage funding rounds, such as Series B, C, or growth equity rounds."
   ]
  }
 ],
 "metadata": {
  "kernelspec": {
   "display_name": "Python 3",
   "language": "python",
   "name": "python3"
  },
  "language_info": {
   "codemirror_mode": {
    "name": "ipython",
    "version": 3
   },
   "file_extension": ".py",
   "mimetype": "text/x-python",
   "name": "python",
   "nbconvert_exporter": "python",
   "pygments_lexer": "ipython3",
   "version": "3.11.5"
  },
  "orig_nbformat": 4
 },
 "nbformat": 4,
 "nbformat_minor": 2
}
